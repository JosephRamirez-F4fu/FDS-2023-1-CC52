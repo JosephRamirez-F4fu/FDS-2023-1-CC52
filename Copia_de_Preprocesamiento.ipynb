{
  "nbformat": 4,
  "nbformat_minor": 0,
  "metadata": {
    "colab": {
      "provenance": [],
      "collapsed_sections": [
        "VVf-1WC3QsuB",
        "_Ydv4ys5Q3jW"
      ],
      "include_colab_link": true
    },
    "kernelspec": {
      "name": "python3",
      "display_name": "Python 3"
    },
    "language_info": {
      "name": "python"
    }
  },
  "cells": [
    {
      "cell_type": "markdown",
      "metadata": {
        "id": "view-in-github",
        "colab_type": "text"
      },
      "source": [
        "<a href=\"https://colab.research.google.com/github/JosephRamirez-F4fu/FDS-2023-1-CC52/blob/master/Copia_de_Preprocesamiento.ipynb\" target=\"_parent\"><img src=\"https://colab.research.google.com/assets/colab-badge.svg\" alt=\"Open In Colab\"/></a>"
      ]
    },
    {
      "cell_type": "markdown",
      "source": [
        "Importar librerias"
      ],
      "metadata": {
        "id": "zVC2cSw6sSsO"
      }
    },
    {
      "cell_type": "code",
      "execution_count": 102,
      "metadata": {
        "id": "9PfpD9gN3a22"
      },
      "outputs": [],
      "source": [
        "import pandas as pd\n",
        "import numpy as np\n",
        "import matplotlib.pyplot as plt\n",
        "import seaborn as sns\n",
        "%matplotlib inline"
      ]
    },
    {
      "cell_type": "markdown",
      "source": [
        "# Cargado de los datos"
      ],
      "metadata": {
        "id": "VVf-1WC3QsuB"
      }
    },
    {
      "cell_type": "code",
      "source": [
        "df = pd.read_csv('bike_buyers.csv')"
      ],
      "metadata": {
        "id": "LJeVJUAh5C7J"
      },
      "execution_count": 103,
      "outputs": []
    },
    {
      "cell_type": "markdown",
      "source": [
        "# Inspección de los datos"
      ],
      "metadata": {
        "id": "_Ydv4ys5Q3jW"
      }
    },
    {
      "cell_type": "code",
      "source": [
        "df.head(10)"
      ],
      "metadata": {
        "id": "mBWD13ZS5rfo",
        "colab": {
          "base_uri": "https://localhost:8080/",
          "height": 0
        },
        "outputId": "3eee27b5-f033-4bc8-b6d5-025deacf6119"
      },
      "execution_count": 104,
      "outputs": [
        {
          "output_type": "execute_result",
          "data": {
            "text/plain": [
              "      ID Marital Status  Gender    Income  Children            Education  \\\n",
              "0  12496        Married  Female   40000.0       1.0            Bachelors   \n",
              "1  24107        Married    Male   30000.0       3.0      Partial College   \n",
              "2  14177        Married    Male   80000.0       5.0      Partial College   \n",
              "3  24381         Single     NaN   70000.0       0.0            Bachelors   \n",
              "4  25597         Single    Male   30000.0       0.0            Bachelors   \n",
              "5  13507        Married  Female   10000.0       2.0      Partial College   \n",
              "6  27974         Single    Male  160000.0       2.0          High School   \n",
              "7  19364        Married    Male   40000.0       1.0            Bachelors   \n",
              "8  22155            NaN    Male   20000.0       2.0  Partial High School   \n",
              "9  19280        Married    Male       NaN       2.0      Partial College   \n",
              "\n",
              "       Occupation Home Owner  Cars Commute Distance   Region   Age  \\\n",
              "0  Skilled Manual        Yes   0.0        0-1 Miles   Europe  42.0   \n",
              "1        Clerical        Yes   1.0        0-1 Miles   Europe  43.0   \n",
              "2    Professional         No   2.0        2-5 Miles   Europe  60.0   \n",
              "3    Professional        Yes   1.0       5-10 Miles  Pacific  41.0   \n",
              "4        Clerical         No   0.0        0-1 Miles   Europe  36.0   \n",
              "5          Manual        Yes   0.0        1-2 Miles   Europe  50.0   \n",
              "6      Management        NaN   4.0        0-1 Miles  Pacific  33.0   \n",
              "7  Skilled Manual        Yes   0.0        0-1 Miles   Europe  43.0   \n",
              "8        Clerical        Yes   2.0       5-10 Miles  Pacific  58.0   \n",
              "9          Manual        Yes   1.0        0-1 Miles   Europe   NaN   \n",
              "\n",
              "  Purchased Bike  \n",
              "0             No  \n",
              "1             No  \n",
              "2             No  \n",
              "3            Yes  \n",
              "4            Yes  \n",
              "5             No  \n",
              "6            Yes  \n",
              "7            Yes  \n",
              "8             No  \n",
              "9            Yes  "
            ],
            "text/html": [
              "\n",
              "  <div id=\"df-bc8fac54-bcf7-480e-a81d-04231116daac\">\n",
              "    <div class=\"colab-df-container\">\n",
              "      <div>\n",
              "<style scoped>\n",
              "    .dataframe tbody tr th:only-of-type {\n",
              "        vertical-align: middle;\n",
              "    }\n",
              "\n",
              "    .dataframe tbody tr th {\n",
              "        vertical-align: top;\n",
              "    }\n",
              "\n",
              "    .dataframe thead th {\n",
              "        text-align: right;\n",
              "    }\n",
              "</style>\n",
              "<table border=\"1\" class=\"dataframe\">\n",
              "  <thead>\n",
              "    <tr style=\"text-align: right;\">\n",
              "      <th></th>\n",
              "      <th>ID</th>\n",
              "      <th>Marital Status</th>\n",
              "      <th>Gender</th>\n",
              "      <th>Income</th>\n",
              "      <th>Children</th>\n",
              "      <th>Education</th>\n",
              "      <th>Occupation</th>\n",
              "      <th>Home Owner</th>\n",
              "      <th>Cars</th>\n",
              "      <th>Commute Distance</th>\n",
              "      <th>Region</th>\n",
              "      <th>Age</th>\n",
              "      <th>Purchased Bike</th>\n",
              "    </tr>\n",
              "  </thead>\n",
              "  <tbody>\n",
              "    <tr>\n",
              "      <th>0</th>\n",
              "      <td>12496</td>\n",
              "      <td>Married</td>\n",
              "      <td>Female</td>\n",
              "      <td>40000.0</td>\n",
              "      <td>1.0</td>\n",
              "      <td>Bachelors</td>\n",
              "      <td>Skilled Manual</td>\n",
              "      <td>Yes</td>\n",
              "      <td>0.0</td>\n",
              "      <td>0-1 Miles</td>\n",
              "      <td>Europe</td>\n",
              "      <td>42.0</td>\n",
              "      <td>No</td>\n",
              "    </tr>\n",
              "    <tr>\n",
              "      <th>1</th>\n",
              "      <td>24107</td>\n",
              "      <td>Married</td>\n",
              "      <td>Male</td>\n",
              "      <td>30000.0</td>\n",
              "      <td>3.0</td>\n",
              "      <td>Partial College</td>\n",
              "      <td>Clerical</td>\n",
              "      <td>Yes</td>\n",
              "      <td>1.0</td>\n",
              "      <td>0-1 Miles</td>\n",
              "      <td>Europe</td>\n",
              "      <td>43.0</td>\n",
              "      <td>No</td>\n",
              "    </tr>\n",
              "    <tr>\n",
              "      <th>2</th>\n",
              "      <td>14177</td>\n",
              "      <td>Married</td>\n",
              "      <td>Male</td>\n",
              "      <td>80000.0</td>\n",
              "      <td>5.0</td>\n",
              "      <td>Partial College</td>\n",
              "      <td>Professional</td>\n",
              "      <td>No</td>\n",
              "      <td>2.0</td>\n",
              "      <td>2-5 Miles</td>\n",
              "      <td>Europe</td>\n",
              "      <td>60.0</td>\n",
              "      <td>No</td>\n",
              "    </tr>\n",
              "    <tr>\n",
              "      <th>3</th>\n",
              "      <td>24381</td>\n",
              "      <td>Single</td>\n",
              "      <td>NaN</td>\n",
              "      <td>70000.0</td>\n",
              "      <td>0.0</td>\n",
              "      <td>Bachelors</td>\n",
              "      <td>Professional</td>\n",
              "      <td>Yes</td>\n",
              "      <td>1.0</td>\n",
              "      <td>5-10 Miles</td>\n",
              "      <td>Pacific</td>\n",
              "      <td>41.0</td>\n",
              "      <td>Yes</td>\n",
              "    </tr>\n",
              "    <tr>\n",
              "      <th>4</th>\n",
              "      <td>25597</td>\n",
              "      <td>Single</td>\n",
              "      <td>Male</td>\n",
              "      <td>30000.0</td>\n",
              "      <td>0.0</td>\n",
              "      <td>Bachelors</td>\n",
              "      <td>Clerical</td>\n",
              "      <td>No</td>\n",
              "      <td>0.0</td>\n",
              "      <td>0-1 Miles</td>\n",
              "      <td>Europe</td>\n",
              "      <td>36.0</td>\n",
              "      <td>Yes</td>\n",
              "    </tr>\n",
              "    <tr>\n",
              "      <th>5</th>\n",
              "      <td>13507</td>\n",
              "      <td>Married</td>\n",
              "      <td>Female</td>\n",
              "      <td>10000.0</td>\n",
              "      <td>2.0</td>\n",
              "      <td>Partial College</td>\n",
              "      <td>Manual</td>\n",
              "      <td>Yes</td>\n",
              "      <td>0.0</td>\n",
              "      <td>1-2 Miles</td>\n",
              "      <td>Europe</td>\n",
              "      <td>50.0</td>\n",
              "      <td>No</td>\n",
              "    </tr>\n",
              "    <tr>\n",
              "      <th>6</th>\n",
              "      <td>27974</td>\n",
              "      <td>Single</td>\n",
              "      <td>Male</td>\n",
              "      <td>160000.0</td>\n",
              "      <td>2.0</td>\n",
              "      <td>High School</td>\n",
              "      <td>Management</td>\n",
              "      <td>NaN</td>\n",
              "      <td>4.0</td>\n",
              "      <td>0-1 Miles</td>\n",
              "      <td>Pacific</td>\n",
              "      <td>33.0</td>\n",
              "      <td>Yes</td>\n",
              "    </tr>\n",
              "    <tr>\n",
              "      <th>7</th>\n",
              "      <td>19364</td>\n",
              "      <td>Married</td>\n",
              "      <td>Male</td>\n",
              "      <td>40000.0</td>\n",
              "      <td>1.0</td>\n",
              "      <td>Bachelors</td>\n",
              "      <td>Skilled Manual</td>\n",
              "      <td>Yes</td>\n",
              "      <td>0.0</td>\n",
              "      <td>0-1 Miles</td>\n",
              "      <td>Europe</td>\n",
              "      <td>43.0</td>\n",
              "      <td>Yes</td>\n",
              "    </tr>\n",
              "    <tr>\n",
              "      <th>8</th>\n",
              "      <td>22155</td>\n",
              "      <td>NaN</td>\n",
              "      <td>Male</td>\n",
              "      <td>20000.0</td>\n",
              "      <td>2.0</td>\n",
              "      <td>Partial High School</td>\n",
              "      <td>Clerical</td>\n",
              "      <td>Yes</td>\n",
              "      <td>2.0</td>\n",
              "      <td>5-10 Miles</td>\n",
              "      <td>Pacific</td>\n",
              "      <td>58.0</td>\n",
              "      <td>No</td>\n",
              "    </tr>\n",
              "    <tr>\n",
              "      <th>9</th>\n",
              "      <td>19280</td>\n",
              "      <td>Married</td>\n",
              "      <td>Male</td>\n",
              "      <td>NaN</td>\n",
              "      <td>2.0</td>\n",
              "      <td>Partial College</td>\n",
              "      <td>Manual</td>\n",
              "      <td>Yes</td>\n",
              "      <td>1.0</td>\n",
              "      <td>0-1 Miles</td>\n",
              "      <td>Europe</td>\n",
              "      <td>NaN</td>\n",
              "      <td>Yes</td>\n",
              "    </tr>\n",
              "  </tbody>\n",
              "</table>\n",
              "</div>\n",
              "      <button class=\"colab-df-convert\" onclick=\"convertToInteractive('df-bc8fac54-bcf7-480e-a81d-04231116daac')\"\n",
              "              title=\"Convert this dataframe to an interactive table.\"\n",
              "              style=\"display:none;\">\n",
              "        \n",
              "  <svg xmlns=\"http://www.w3.org/2000/svg\" height=\"24px\"viewBox=\"0 0 24 24\"\n",
              "       width=\"24px\">\n",
              "    <path d=\"M0 0h24v24H0V0z\" fill=\"none\"/>\n",
              "    <path d=\"M18.56 5.44l.94 2.06.94-2.06 2.06-.94-2.06-.94-.94-2.06-.94 2.06-2.06.94zm-11 1L8.5 8.5l.94-2.06 2.06-.94-2.06-.94L8.5 2.5l-.94 2.06-2.06.94zm10 10l.94 2.06.94-2.06 2.06-.94-2.06-.94-.94-2.06-.94 2.06-2.06.94z\"/><path d=\"M17.41 7.96l-1.37-1.37c-.4-.4-.92-.59-1.43-.59-.52 0-1.04.2-1.43.59L10.3 9.45l-7.72 7.72c-.78.78-.78 2.05 0 2.83L4 21.41c.39.39.9.59 1.41.59.51 0 1.02-.2 1.41-.59l7.78-7.78 2.81-2.81c.8-.78.8-2.07 0-2.86zM5.41 20L4 18.59l7.72-7.72 1.47 1.35L5.41 20z\"/>\n",
              "  </svg>\n",
              "      </button>\n",
              "      \n",
              "  <style>\n",
              "    .colab-df-container {\n",
              "      display:flex;\n",
              "      flex-wrap:wrap;\n",
              "      gap: 12px;\n",
              "    }\n",
              "\n",
              "    .colab-df-convert {\n",
              "      background-color: #E8F0FE;\n",
              "      border: none;\n",
              "      border-radius: 50%;\n",
              "      cursor: pointer;\n",
              "      display: none;\n",
              "      fill: #1967D2;\n",
              "      height: 32px;\n",
              "      padding: 0 0 0 0;\n",
              "      width: 32px;\n",
              "    }\n",
              "\n",
              "    .colab-df-convert:hover {\n",
              "      background-color: #E2EBFA;\n",
              "      box-shadow: 0px 1px 2px rgba(60, 64, 67, 0.3), 0px 1px 3px 1px rgba(60, 64, 67, 0.15);\n",
              "      fill: #174EA6;\n",
              "    }\n",
              "\n",
              "    [theme=dark] .colab-df-convert {\n",
              "      background-color: #3B4455;\n",
              "      fill: #D2E3FC;\n",
              "    }\n",
              "\n",
              "    [theme=dark] .colab-df-convert:hover {\n",
              "      background-color: #434B5C;\n",
              "      box-shadow: 0px 1px 3px 1px rgba(0, 0, 0, 0.15);\n",
              "      filter: drop-shadow(0px 1px 2px rgba(0, 0, 0, 0.3));\n",
              "      fill: #FFFFFF;\n",
              "    }\n",
              "  </style>\n",
              "\n",
              "      <script>\n",
              "        const buttonEl =\n",
              "          document.querySelector('#df-bc8fac54-bcf7-480e-a81d-04231116daac button.colab-df-convert');\n",
              "        buttonEl.style.display =\n",
              "          google.colab.kernel.accessAllowed ? 'block' : 'none';\n",
              "\n",
              "        async function convertToInteractive(key) {\n",
              "          const element = document.querySelector('#df-bc8fac54-bcf7-480e-a81d-04231116daac');\n",
              "          const dataTable =\n",
              "            await google.colab.kernel.invokeFunction('convertToInteractive',\n",
              "                                                     [key], {});\n",
              "          if (!dataTable) return;\n",
              "\n",
              "          const docLinkHtml = 'Like what you see? Visit the ' +\n",
              "            '<a target=\"_blank\" href=https://colab.research.google.com/notebooks/data_table.ipynb>data table notebook</a>'\n",
              "            + ' to learn more about interactive tables.';\n",
              "          element.innerHTML = '';\n",
              "          dataTable['output_type'] = 'display_data';\n",
              "          await google.colab.output.renderOutput(dataTable, element);\n",
              "          const docLink = document.createElement('div');\n",
              "          docLink.innerHTML = docLinkHtml;\n",
              "          element.appendChild(docLink);\n",
              "        }\n",
              "      </script>\n",
              "    </div>\n",
              "  </div>\n",
              "  "
            ]
          },
          "metadata": {},
          "execution_count": 104
        }
      ]
    },
    {
      "cell_type": "code",
      "source": [
        "df.describe()"
      ],
      "metadata": {
        "id": "8Jit-r9a5Gui",
        "colab": {
          "base_uri": "https://localhost:8080/",
          "height": 0
        },
        "outputId": "cad62096-8f71-463a-e1a3-31391fe6197c"
      },
      "execution_count": 105,
      "outputs": [
        {
          "output_type": "execute_result",
          "data": {
            "text/plain": [
              "                 ID         Income    Children        Cars         Age\n",
              "count   1000.000000     994.000000  992.000000  991.000000  992.000000\n",
              "mean   19965.992000   56267.605634    1.910282    1.455096   44.181452\n",
              "std     5347.333948   31067.817462    1.626910    1.121755   11.362007\n",
              "min    11000.000000   10000.000000    0.000000    0.000000   25.000000\n",
              "25%    15290.750000   30000.000000    0.000000    1.000000   35.000000\n",
              "50%    19744.000000   60000.000000    2.000000    1.000000   43.000000\n",
              "75%    24470.750000   70000.000000    3.000000    2.000000   52.000000\n",
              "max    29447.000000  170000.000000    5.000000    4.000000   89.000000"
            ],
            "text/html": [
              "\n",
              "  <div id=\"df-80cf9597-b086-42ae-aa68-092dceb63573\">\n",
              "    <div class=\"colab-df-container\">\n",
              "      <div>\n",
              "<style scoped>\n",
              "    .dataframe tbody tr th:only-of-type {\n",
              "        vertical-align: middle;\n",
              "    }\n",
              "\n",
              "    .dataframe tbody tr th {\n",
              "        vertical-align: top;\n",
              "    }\n",
              "\n",
              "    .dataframe thead th {\n",
              "        text-align: right;\n",
              "    }\n",
              "</style>\n",
              "<table border=\"1\" class=\"dataframe\">\n",
              "  <thead>\n",
              "    <tr style=\"text-align: right;\">\n",
              "      <th></th>\n",
              "      <th>ID</th>\n",
              "      <th>Income</th>\n",
              "      <th>Children</th>\n",
              "      <th>Cars</th>\n",
              "      <th>Age</th>\n",
              "    </tr>\n",
              "  </thead>\n",
              "  <tbody>\n",
              "    <tr>\n",
              "      <th>count</th>\n",
              "      <td>1000.000000</td>\n",
              "      <td>994.000000</td>\n",
              "      <td>992.000000</td>\n",
              "      <td>991.000000</td>\n",
              "      <td>992.000000</td>\n",
              "    </tr>\n",
              "    <tr>\n",
              "      <th>mean</th>\n",
              "      <td>19965.992000</td>\n",
              "      <td>56267.605634</td>\n",
              "      <td>1.910282</td>\n",
              "      <td>1.455096</td>\n",
              "      <td>44.181452</td>\n",
              "    </tr>\n",
              "    <tr>\n",
              "      <th>std</th>\n",
              "      <td>5347.333948</td>\n",
              "      <td>31067.817462</td>\n",
              "      <td>1.626910</td>\n",
              "      <td>1.121755</td>\n",
              "      <td>11.362007</td>\n",
              "    </tr>\n",
              "    <tr>\n",
              "      <th>min</th>\n",
              "      <td>11000.000000</td>\n",
              "      <td>10000.000000</td>\n",
              "      <td>0.000000</td>\n",
              "      <td>0.000000</td>\n",
              "      <td>25.000000</td>\n",
              "    </tr>\n",
              "    <tr>\n",
              "      <th>25%</th>\n",
              "      <td>15290.750000</td>\n",
              "      <td>30000.000000</td>\n",
              "      <td>0.000000</td>\n",
              "      <td>1.000000</td>\n",
              "      <td>35.000000</td>\n",
              "    </tr>\n",
              "    <tr>\n",
              "      <th>50%</th>\n",
              "      <td>19744.000000</td>\n",
              "      <td>60000.000000</td>\n",
              "      <td>2.000000</td>\n",
              "      <td>1.000000</td>\n",
              "      <td>43.000000</td>\n",
              "    </tr>\n",
              "    <tr>\n",
              "      <th>75%</th>\n",
              "      <td>24470.750000</td>\n",
              "      <td>70000.000000</td>\n",
              "      <td>3.000000</td>\n",
              "      <td>2.000000</td>\n",
              "      <td>52.000000</td>\n",
              "    </tr>\n",
              "    <tr>\n",
              "      <th>max</th>\n",
              "      <td>29447.000000</td>\n",
              "      <td>170000.000000</td>\n",
              "      <td>5.000000</td>\n",
              "      <td>4.000000</td>\n",
              "      <td>89.000000</td>\n",
              "    </tr>\n",
              "  </tbody>\n",
              "</table>\n",
              "</div>\n",
              "      <button class=\"colab-df-convert\" onclick=\"convertToInteractive('df-80cf9597-b086-42ae-aa68-092dceb63573')\"\n",
              "              title=\"Convert this dataframe to an interactive table.\"\n",
              "              style=\"display:none;\">\n",
              "        \n",
              "  <svg xmlns=\"http://www.w3.org/2000/svg\" height=\"24px\"viewBox=\"0 0 24 24\"\n",
              "       width=\"24px\">\n",
              "    <path d=\"M0 0h24v24H0V0z\" fill=\"none\"/>\n",
              "    <path d=\"M18.56 5.44l.94 2.06.94-2.06 2.06-.94-2.06-.94-.94-2.06-.94 2.06-2.06.94zm-11 1L8.5 8.5l.94-2.06 2.06-.94-2.06-.94L8.5 2.5l-.94 2.06-2.06.94zm10 10l.94 2.06.94-2.06 2.06-.94-2.06-.94-.94-2.06-.94 2.06-2.06.94z\"/><path d=\"M17.41 7.96l-1.37-1.37c-.4-.4-.92-.59-1.43-.59-.52 0-1.04.2-1.43.59L10.3 9.45l-7.72 7.72c-.78.78-.78 2.05 0 2.83L4 21.41c.39.39.9.59 1.41.59.51 0 1.02-.2 1.41-.59l7.78-7.78 2.81-2.81c.8-.78.8-2.07 0-2.86zM5.41 20L4 18.59l7.72-7.72 1.47 1.35L5.41 20z\"/>\n",
              "  </svg>\n",
              "      </button>\n",
              "      \n",
              "  <style>\n",
              "    .colab-df-container {\n",
              "      display:flex;\n",
              "      flex-wrap:wrap;\n",
              "      gap: 12px;\n",
              "    }\n",
              "\n",
              "    .colab-df-convert {\n",
              "      background-color: #E8F0FE;\n",
              "      border: none;\n",
              "      border-radius: 50%;\n",
              "      cursor: pointer;\n",
              "      display: none;\n",
              "      fill: #1967D2;\n",
              "      height: 32px;\n",
              "      padding: 0 0 0 0;\n",
              "      width: 32px;\n",
              "    }\n",
              "\n",
              "    .colab-df-convert:hover {\n",
              "      background-color: #E2EBFA;\n",
              "      box-shadow: 0px 1px 2px rgba(60, 64, 67, 0.3), 0px 1px 3px 1px rgba(60, 64, 67, 0.15);\n",
              "      fill: #174EA6;\n",
              "    }\n",
              "\n",
              "    [theme=dark] .colab-df-convert {\n",
              "      background-color: #3B4455;\n",
              "      fill: #D2E3FC;\n",
              "    }\n",
              "\n",
              "    [theme=dark] .colab-df-convert:hover {\n",
              "      background-color: #434B5C;\n",
              "      box-shadow: 0px 1px 3px 1px rgba(0, 0, 0, 0.15);\n",
              "      filter: drop-shadow(0px 1px 2px rgba(0, 0, 0, 0.3));\n",
              "      fill: #FFFFFF;\n",
              "    }\n",
              "  </style>\n",
              "\n",
              "      <script>\n",
              "        const buttonEl =\n",
              "          document.querySelector('#df-80cf9597-b086-42ae-aa68-092dceb63573 button.colab-df-convert');\n",
              "        buttonEl.style.display =\n",
              "          google.colab.kernel.accessAllowed ? 'block' : 'none';\n",
              "\n",
              "        async function convertToInteractive(key) {\n",
              "          const element = document.querySelector('#df-80cf9597-b086-42ae-aa68-092dceb63573');\n",
              "          const dataTable =\n",
              "            await google.colab.kernel.invokeFunction('convertToInteractive',\n",
              "                                                     [key], {});\n",
              "          if (!dataTable) return;\n",
              "\n",
              "          const docLinkHtml = 'Like what you see? Visit the ' +\n",
              "            '<a target=\"_blank\" href=https://colab.research.google.com/notebooks/data_table.ipynb>data table notebook</a>'\n",
              "            + ' to learn more about interactive tables.';\n",
              "          element.innerHTML = '';\n",
              "          dataTable['output_type'] = 'display_data';\n",
              "          await google.colab.output.renderOutput(dataTable, element);\n",
              "          const docLink = document.createElement('div');\n",
              "          docLink.innerHTML = docLinkHtml;\n",
              "          element.appendChild(docLink);\n",
              "        }\n",
              "      </script>\n",
              "    </div>\n",
              "  </div>\n",
              "  "
            ]
          },
          "metadata": {},
          "execution_count": 105
        }
      ]
    },
    {
      "cell_type": "code",
      "source": [
        "#ajuste en el tipo de datos para manejo simplificado\n",
        "df['Marital Status'] = df['Marital Status'].astype('category')\n",
        "df['Gender'] = df['Gender'].astype('category')\n",
        "df['Education'] = df['Education'].astype('category')\n",
        "df['Occupation'] = df['Occupation'].astype('category')\n",
        "df['Home Owner'] = df['Home Owner'].astype('category')\n",
        "df['Commute Distance'] = df['Commute Distance'].astype('category')\n",
        "df['Region'] = df['Region'].astype('category')\n",
        "df['Purchased Bike'] = df['Purchased Bike'].astype('category')\n",
        "\n",
        "df.info()"
      ],
      "metadata": {
        "id": "zG0D9UCDJVo6",
        "colab": {
          "base_uri": "https://localhost:8080/"
        },
        "outputId": "e43a6016-169e-4ee0-ebb0-8c33dc8a21cc"
      },
      "execution_count": 106,
      "outputs": [
        {
          "output_type": "stream",
          "name": "stdout",
          "text": [
            "<class 'pandas.core.frame.DataFrame'>\n",
            "RangeIndex: 1000 entries, 0 to 999\n",
            "Data columns (total 13 columns):\n",
            " #   Column            Non-Null Count  Dtype   \n",
            "---  ------            --------------  -----   \n",
            " 0   ID                1000 non-null   int64   \n",
            " 1   Marital Status    993 non-null    category\n",
            " 2   Gender            989 non-null    category\n",
            " 3   Income            994 non-null    float64 \n",
            " 4   Children          992 non-null    float64 \n",
            " 5   Education         1000 non-null   category\n",
            " 6   Occupation        1000 non-null   category\n",
            " 7   Home Owner        996 non-null    category\n",
            " 8   Cars              991 non-null    float64 \n",
            " 9   Commute Distance  1000 non-null   category\n",
            " 10  Region            1000 non-null   category\n",
            " 11  Age               992 non-null    float64 \n",
            " 12  Purchased Bike    1000 non-null   category\n",
            "dtypes: category(8), float64(4), int64(1)\n",
            "memory usage: 48.2 KB\n"
          ]
        }
      ]
    },
    {
      "cell_type": "markdown",
      "source": [
        "# VISUALIZACIÓN DE LOS DATOS"
      ],
      "metadata": {
        "id": "sFJK0mkwPnc4"
      }
    },
    {
      "cell_type": "code",
      "source": [
        "fig, axes = plt.subplots(nrows=2, ncols=2, figsize=(10, 8))\n",
        "numeric_cols = df.drop('ID', axis=1).select_dtypes(include='number').columns\n",
        "for i in range(len(numeric_cols)):\n",
        "    sns.histplot(data=df[numeric_cols[i]], ax= axes[i%2,int(i/2)])\n",
        "fig.show"
      ],
      "metadata": {
        "id": "Hx1MvWjhPmFi",
        "colab": {
          "base_uri": "https://localhost:8080/",
          "height": 713
        },
        "outputId": "f5dfd26a-2b24-4b31-dd88-726a15cfe67a"
      },
      "execution_count": 107,
      "outputs": [
        {
          "output_type": "execute_result",
          "data": {
            "text/plain": [
              "<bound method Figure.show of <Figure size 1000x800 with 4 Axes>>"
            ]
          },
          "metadata": {},
          "execution_count": 107
        },
        {
          "output_type": "display_data",
          "data": {
            "text/plain": [
              "<Figure size 1000x800 with 4 Axes>"
            ],
            "image/png": "[encoded data removed]"
          },
          "metadata": {}
        }
      ]
    },
    {
      "cell_type": "markdown",
      "source": [
        "# PRE-PROCESAMIENTO DE DATOS"
      ],
      "metadata": {
        "id": "1VSmLJTOOV4H"
      }
    },
    {
      "cell_type": "code",
      "source": [
        "#Datos repetidos?\n",
        "len(df['ID'].unique()) != len(df['ID'])"
      ],
      "metadata": {
        "id": "Ickmy3R6pekx",
        "colab": {
          "base_uri": "https://localhost:8080/"
        },
        "outputId": "aca954c0-0c6c-4fd5-91e1-654bf7ec675a"
      },
      "execution_count": 108,
      "outputs": [
        {
          "output_type": "execute_result",
          "data": {
            "text/plain": [
              "False"
            ]
          },
          "metadata": {},
          "execution_count": 108
        }
      ]
    },
    {
      "cell_type": "code",
      "source": [
        "#elimina columnas con un porcentaje de datos faltantes mayor a 20%\n",
        "percent = 0.20\n",
        "df = df.dropna(thresh = df.shape[0] - np.ceil(df.shape[0] * percent), axis=1)\n",
        "print(list(df.columns))"
      ],
      "metadata": {
        "id": "uJ8TqfpG5S1S",
        "colab": {
          "base_uri": "https://localhost:8080/"
        },
        "outputId": "60e7dcd8-5073-4a83-c81a-f420c125fb72"
      },
      "execution_count": 109,
      "outputs": [
        {
          "output_type": "stream",
          "name": "stdout",
          "text": [
            "['ID', 'Marital Status', 'Gender', 'Income', 'Children', 'Education', 'Occupation', 'Home Owner', 'Cars', 'Commute Distance', 'Region', 'Age', 'Purchased Bike']\n"
          ]
        }
      ]
    },
    {
      "cell_type": "code",
      "source": [
        "#Crear una copia de ID y Purchased Bike\n",
        "df['Purchased Bike'].replace({'No': 0, 'Yes': 1}, inplace=True)\n",
        "df_index = df[['ID', 'Purchased Bike']]\n",
        "df_index.columns = ['ID', 'Target']\n",
        "df = df.drop(['ID'], axis = 1)"
      ],
      "metadata": {
        "id": "1aG1sIRavtFq"
      },
      "execution_count": 110,
      "outputs": []
    },
    {
      "cell_type": "code",
      "source": [
        "df_index.to_csv('index_data.csv',sep=';', index=False)"
      ],
      "metadata": {
        "id": "VSDIHwDVeRld"
      },
      "execution_count": 111,
      "outputs": []
    },
    {
      "cell_type": "code",
      "source": [
        "#separamos las variables numericas de las no numericas\n",
        "numeric_cols = df.select_dtypes(include='number').columns\n",
        "categoric_cols = df.select_dtypes(include='category').columns"
      ],
      "metadata": {
        "id": "7Lc4XspGUIQm"
      },
      "execution_count": 112,
      "outputs": []
    },
    {
      "cell_type": "code",
      "source": [
        "#Revisar que no exista un error de ingreso\n",
        "for col in categoric_cols:\n",
        "    categorias = df[col].cat.categories\n",
        "    print(f\"{col}:\\n{[c for c in categorias]}\")"
      ],
      "metadata": {
        "id": "2nfT5KKeJU8g",
        "colab": {
          "base_uri": "https://localhost:8080/"
        },
        "outputId": "771af325-17ca-4ef8-f03d-6aba6bc68294"
      },
      "execution_count": 113,
      "outputs": [
        {
          "output_type": "stream",
          "name": "stdout",
          "text": [
            "Marital Status:\n",
            "['Married', 'Single']\n",
            "Gender:\n",
            "['Female', 'Male']\n",
            "Education:\n",
            "['Bachelors', 'Graduate Degree', 'High School', 'Partial College', 'Partial High School']\n",
            "Occupation:\n",
            "['Clerical', 'Management', 'Manual', 'Professional', 'Skilled Manual']\n",
            "Home Owner:\n",
            "['No', 'Yes']\n",
            "Commute Distance:\n",
            "['0-1 Miles', '1-2 Miles', '10+ Miles', '2-5 Miles', '5-10 Miles']\n",
            "Region:\n",
            "['Europe', 'North America', 'Pacific']\n",
            "Purchased Bike:\n",
            "[0, 1]\n"
          ]
        }
      ]
    },
    {
      "cell_type": "code",
      "source": [
        "for col in numeric_cols:\n",
        "    Q1 = df[col].quantile(0.25)\n",
        "    Q3 = df[col].quantile(0.75)\n",
        "    IQR = Q3 - Q1\n",
        "    min = Q1 - 1.5 * IQR\n",
        "    max = Q3 + 1.5 * IQR\n",
        "    df_outliers = df[(df[col] < min) | (df[col] > max)][col]\n",
        "    print(str(col), df_outliers.shape[0])"
      ],
      "metadata": {
        "id": "OVNXBIH7V8gI",
        "colab": {
          "base_uri": "https://localhost:8080/"
        },
        "outputId": "476d9a41-1245-45d3-c75f-70de4350108c"
      },
      "execution_count": 114,
      "outputs": [
        {
          "output_type": "stream",
          "name": "stdout",
          "text": [
            "Income 10\n",
            "Children 0\n",
            "Cars 59\n",
            "Age 4\n"
          ]
        }
      ]
    },
    {
      "cell_type": "code",
      "source": [
        "#Reemplazar los datos faltantes de variables numericas con la mediana\n",
        "for col in numeric_cols:\n",
        "    df[col].fillna(value=df[col].median(), inplace=True)"
      ],
      "metadata": {
        "id": "mDfC5wR8d-5z"
      },
      "execution_count": 115,
      "outputs": []
    },
    {
      "cell_type": "code",
      "source": [
        "df.info()"
      ],
      "metadata": {
        "id": "0Uin9YrZUuPY",
        "colab": {
          "base_uri": "https://localhost:8080/"
        },
        "outputId": "7ea2358b-7918-423b-a4f9-794ad7b57861"
      },
      "execution_count": 116,
      "outputs": [
        {
          "output_type": "stream",
          "name": "stdout",
          "text": [
            "<class 'pandas.core.frame.DataFrame'>\n",
            "RangeIndex: 1000 entries, 0 to 999\n",
            "Data columns (total 12 columns):\n",
            " #   Column            Non-Null Count  Dtype   \n",
            "---  ------            --------------  -----   \n",
            " 0   Marital Status    993 non-null    category\n",
            " 1   Gender            989 non-null    category\n",
            " 2   Income            1000 non-null   float64 \n",
            " 3   Children          1000 non-null   float64 \n",
            " 4   Education         1000 non-null   category\n",
            " 5   Occupation        1000 non-null   category\n",
            " 6   Home Owner        996 non-null    category\n",
            " 7   Cars              1000 non-null   float64 \n",
            " 8   Commute Distance  1000 non-null   category\n",
            " 9   Region            1000 non-null   category\n",
            " 10  Age               1000 non-null   float64 \n",
            " 11  Purchased Bike    1000 non-null   category\n",
            "dtypes: category(8), float64(4)\n",
            "memory usage: 40.4 KB\n"
          ]
        }
      ]
    },
    {
      "cell_type": "code",
      "source": [
        "#Reemplazar valores categoricos faltantes por la moda\n",
        "for col in categoric_cols[0:]:\n",
        "    df[col].fillna(value=df[col].mode()[0], inplace=True)"
      ],
      "metadata": {
        "id": "ULLflbeX0QTq"
      },
      "execution_count": 117,
      "outputs": []
    },
    {
      "cell_type": "code",
      "source": [
        "df.info()"
      ],
      "metadata": {
        "id": "SUmy0wrQtxmS",
        "colab": {
          "base_uri": "https://localhost:8080/"
        },
        "outputId": "b3c6d342-240f-47a6-8dcd-9c1add4b354c"
      },
      "execution_count": 118,
      "outputs": [
        {
          "output_type": "stream",
          "name": "stdout",
          "text": [
            "<class 'pandas.core.frame.DataFrame'>\n",
            "RangeIndex: 1000 entries, 0 to 999\n",
            "Data columns (total 12 columns):\n",
            " #   Column            Non-Null Count  Dtype   \n",
            "---  ------            --------------  -----   \n",
            " 0   Marital Status    1000 non-null   category\n",
            " 1   Gender            1000 non-null   category\n",
            " 2   Income            1000 non-null   float64 \n",
            " 3   Children          1000 non-null   float64 \n",
            " 4   Education         1000 non-null   category\n",
            " 5   Occupation        1000 non-null   category\n",
            " 6   Home Owner        1000 non-null   category\n",
            " 7   Cars              1000 non-null   float64 \n",
            " 8   Commute Distance  1000 non-null   category\n",
            " 9   Region            1000 non-null   category\n",
            " 10  Age               1000 non-null   float64 \n",
            " 11  Purchased Bike    1000 non-null   category\n",
            "dtypes: category(8), float64(4)\n",
            "memory usage: 40.4 KB\n"
          ]
        }
      ]
    },
    {
      "cell_type": "code",
      "source": [
        "#data necesaria para Requerimientos\n",
        "df.to_csv('requirement_data.csv',sep=';', index=False)"
      ],
      "metadata": {
        "id": "ylI8R5xVpUGX"
      },
      "execution_count": 119,
      "outputs": []
    },
    {
      "cell_type": "markdown",
      "source": [
        "CREACION DE NUEVAS COLUMNAS`"
      ],
      "metadata": {
        "id": "2jA9sCjGU056"
      }
    },
    {
      "cell_type": "code",
      "source": [
        "#Se trata de un rango por lo cual tambien se puede tratar como una variable jerarquica\n",
        "df['Ctgr Commute Distance'] = df['Commute Distance'].replace({'0-1 Miles': 1,'1-2 Miles': 2, '2-5 Miles': 3, '5-10 Miles': 4, '10+ Miles': 5}).astype('int64')"
      ],
      "metadata": {
        "id": "BVzg1fa_ULZH"
      },
      "execution_count": 120,
      "outputs": []
    },
    {
      "cell_type": "code",
      "source": [
        "df['LogIncome'] = round(np.log(df['Income']) + 1, 4)\n",
        "df['LogAge'] = round(np.log(df['Age']) + 1, 4)\n",
        "df['CatgrIncome'] = pd.qcut(df['Income'], 3, labels=['Bajo', 'Medio', 'Alto'])\n",
        "#df['CatgrIncome'] = pd.qcut(df['Income'], 5, labels=['E', 'D', 'C', 'B', 'A'])\n",
        "df['CtgrCars'] = pd.qcut(df['Income'], 5, labels=[1, 2, 3, 4, 5])\n",
        "df['CtgrCars'] = df['CtgrCars'].astype('int8')\n",
        "#df['CatIncome'] = pd.qcut(df['Income'], bins=[0, 2, 4, 6], labels=['Bajo', 'Medio', 'Alto'])\n",
        "#df['ColumnaCategorica'] = pd.qcut(df['ColumnaNumerica'], q=3, labels=['Bajo', 'Medio', 'Alto'])"
      ],
      "metadata": {
        "id": "PFXqj1LAU-aG"
      },
      "execution_count": 121,
      "outputs": []
    },
    {
      "cell_type": "code",
      "source": [
        "df.info()"
      ],
      "metadata": {
        "colab": {
          "base_uri": "https://localhost:8080/"
        },
        "id": "9_ZtBXNuZh0r",
        "outputId": "9879baac-621e-4d37-cd00-9388695416c3"
      },
      "execution_count": 122,
      "outputs": [
        {
          "output_type": "stream",
          "name": "stdout",
          "text": [
            "<class 'pandas.core.frame.DataFrame'>\n",
            "RangeIndex: 1000 entries, 0 to 999\n",
            "Data columns (total 17 columns):\n",
            " #   Column                 Non-Null Count  Dtype   \n",
            "---  ------                 --------------  -----   \n",
            " 0   Marital Status         1000 non-null   category\n",
            " 1   Gender                 1000 non-null   category\n",
            " 2   Income                 1000 non-null   float64 \n",
            " 3   Children               1000 non-null   float64 \n",
            " 4   Education              1000 non-null   category\n",
            " 5   Occupation             1000 non-null   category\n",
            " 6   Home Owner             1000 non-null   category\n",
            " 7   Cars                   1000 non-null   float64 \n",
            " 8   Commute Distance       1000 non-null   category\n",
            " 9   Region                 1000 non-null   category\n",
            " 10  Age                    1000 non-null   float64 \n",
            " 11  Purchased Bike         1000 non-null   category\n",
            " 12  Ctgr Commute Distance  1000 non-null   int64   \n",
            " 13  LogIncome              1000 non-null   float64 \n",
            " 14  LogAge                 1000 non-null   float64 \n",
            " 15  CatgrIncome            1000 non-null   category\n",
            " 16  CtgrCars               1000 non-null   int8    \n",
            "dtypes: category(9), float64(6), int64(1), int8(1)\n",
            "memory usage: 65.9 KB\n"
          ]
        }
      ]
    },
    {
      "cell_type": "code",
      "source": [
        "#separamos las variables numericas de las no numericas\n",
        "numeric_cols = df.select_dtypes(include='number').columns\n",
        "categoric_cols = df.select_dtypes(include='category').columns"
      ],
      "metadata": {
        "id": "ExtQvlSzW5gs"
      },
      "execution_count": 123,
      "outputs": []
    },
    {
      "cell_type": "code",
      "source": [
        "categoric_cols.to_list()"
      ],
      "metadata": {
        "colab": {
          "base_uri": "https://localhost:8080/"
        },
        "id": "3N2zb_-TcFdF",
        "outputId": "d10a2316-8214-4fd2-b10b-4fcee3bf2239"
      },
      "execution_count": 124,
      "outputs": [
        {
          "output_type": "execute_result",
          "data": {
            "text/plain": [
              "['Marital Status',\n",
              " 'Gender',\n",
              " 'Education',\n",
              " 'Occupation',\n",
              " 'Home Owner',\n",
              " 'Commute Distance',\n",
              " 'Region',\n",
              " 'Purchased Bike',\n",
              " 'CatgrIncome']"
            ]
          },
          "metadata": {},
          "execution_count": 124
        }
      ]
    },
    {
      "cell_type": "code",
      "source": [
        "categorical=pd.get_dummies(df[categoric_cols], columns=categoric_cols, drop_first=True)\n",
        "\n",
        "categorical.head()"
      ],
      "metadata": {
        "colab": {
          "base_uri": "https://localhost:8080/",
          "height": 305
        },
        "id": "jzeiOgrDU--g",
        "outputId": "a675cfec-7795-4491-c4eb-8aaad653fbdb"
      },
      "execution_count": 125,
      "outputs": [
        {
          "output_type": "execute_result",
          "data": {
            "text/plain": [
              "   Marital Status_Single  Gender_Male  Education_Graduate Degree  \\\n",
              "0                      0            0                          0   \n",
              "1                      0            1                          0   \n",
              "2                      0            1                          0   \n",
              "3                      1            1                          0   \n",
              "4                      1            1                          0   \n",
              "\n",
              "   Education_High School  Education_Partial College  \\\n",
              "0                      0                          0   \n",
              "1                      0                          1   \n",
              "2                      0                          1   \n",
              "3                      0                          0   \n",
              "4                      0                          0   \n",
              "\n",
              "   Education_Partial High School  Occupation_Management  Occupation_Manual  \\\n",
              "0                              0                      0                  0   \n",
              "1                              0                      0                  0   \n",
              "2                              0                      0                  0   \n",
              "3                              0                      0                  0   \n",
              "4                              0                      0                  0   \n",
              "\n",
              "   Occupation_Professional  Occupation_Skilled Manual  Home Owner_Yes  \\\n",
              "0                        0                          1               1   \n",
              "1                        0                          0               1   \n",
              "2                        1                          0               0   \n",
              "3                        1                          0               1   \n",
              "4                        0                          0               0   \n",
              "\n",
              "   Commute Distance_1-2 Miles  Commute Distance_10+ Miles  \\\n",
              "0                           0                           0   \n",
              "1                           0                           0   \n",
              "2                           0                           0   \n",
              "3                           0                           0   \n",
              "4                           0                           0   \n",
              "\n",
              "   Commute Distance_2-5 Miles  Commute Distance_5-10 Miles  \\\n",
              "0                           0                            0   \n",
              "1                           0                            0   \n",
              "2                           1                            0   \n",
              "3                           0                            1   \n",
              "4                           0                            0   \n",
              "\n",
              "   Region_North America  Region_Pacific  Purchased Bike_1  CatgrIncome_Medio  \\\n",
              "0                     0               0                 0                  0   \n",
              "1                     0               0                 0                  0   \n",
              "2                     0               0                 0                  0   \n",
              "3                     0               1                 1                  1   \n",
              "4                     0               0                 1                  0   \n",
              "\n",
              "   CatgrIncome_Alto  \n",
              "0                 0  \n",
              "1                 0  \n",
              "2                 1  \n",
              "3                 0  \n",
              "4                 0  "
            ],
            "text/html": [
              "\n",
              "  <div id=\"df-9e927ad8-d5d6-4bb8-bb68-2e88d28ddbcc\">\n",
              "    <div class=\"colab-df-container\">\n",
              "      <div>\n",
              "<style scoped>\n",
              "    .dataframe tbody tr th:only-of-type {\n",
              "        vertical-align: middle;\n",
              "    }\n",
              "\n",
              "    .dataframe tbody tr th {\n",
              "        vertical-align: top;\n",
              "    }\n",
              "\n",
              "    .dataframe thead th {\n",
              "        text-align: right;\n",
              "    }\n",
              "</style>\n",
              "<table border=\"1\" class=\"dataframe\">\n",
              "  <thead>\n",
              "    <tr style=\"text-align: right;\">\n",
              "      <th></th>\n",
              "      <th>Marital Status_Single</th>\n",
              "      <th>Gender_Male</th>\n",
              "      <th>Education_Graduate Degree</th>\n",
              "      <th>Education_High School</th>\n",
              "      <th>Education_Partial College</th>\n",
              "      <th>Education_Partial High School</th>\n",
              "      <th>Occupation_Management</th>\n",
              "      <th>Occupation_Manual</th>\n",
              "      <th>Occupation_Professional</th>\n",
              "      <th>Occupation_Skilled Manual</th>\n",
              "      <th>Home Owner_Yes</th>\n",
              "      <th>Commute Distance_1-2 Miles</th>\n",
              "      <th>Commute Distance_10+ Miles</th>\n",
              "      <th>Commute Distance_2-5 Miles</th>\n",
              "      <th>Commute Distance_5-10 Miles</th>\n",
              "      <th>Region_North America</th>\n",
              "      <th>Region_Pacific</th>\n",
              "      <th>Purchased Bike_1</th>\n",
              "      <th>CatgrIncome_Medio</th>\n",
              "      <th>CatgrIncome_Alto</th>\n",
              "    </tr>\n",
              "  </thead>\n",
              "  <tbody>\n",
              "    <tr>\n",
              "      <th>0</th>\n",
              "      <td>0</td>\n",
              "      <td>0</td>\n",
              "      <td>0</td>\n",
              "      <td>0</td>\n",
              "      <td>0</td>\n",
              "      <td>0</td>\n",
              "      <td>0</td>\n",
              "      <td>0</td>\n",
              "      <td>0</td>\n",
              "      <td>1</td>\n",
              "      <td>1</td>\n",
              "      <td>0</td>\n",
              "      <td>0</td>\n",
              "      <td>0</td>\n",
              "      <td>0</td>\n",
              "      <td>0</td>\n",
              "      <td>0</td>\n",
              "      <td>0</td>\n",
              "      <td>0</td>\n",
              "      <td>0</td>\n",
              "    </tr>\n",
              "    <tr>\n",
              "      <th>1</th>\n",
              "      <td>0</td>\n",
              "      <td>1</td>\n",
              "      <td>0</td>\n",
              "      <td>0</td>\n",
              "      <td>1</td>\n",
              "      <td>0</td>\n",
              "      <td>0</td>\n",
              "      <td>0</td>\n",
              "      <td>0</td>\n",
              "      <td>0</td>\n",
              "      <td>1</td>\n",
              "      <td>0</td>\n",
              "      <td>0</td>\n",
              "      <td>0</td>\n",
              "      <td>0</td>\n",
              "      <td>0</td>\n",
              "      <td>0</td>\n",
              "      <td>0</td>\n",
              "      <td>0</td>\n",
              "      <td>0</td>\n",
              "    </tr>\n",
              "    <tr>\n",
              "      <th>2</th>\n",
              "      <td>0</td>\n",
              "      <td>1</td>\n",
              "      <td>0</td>\n",
              "      <td>0</td>\n",
              "      <td>1</td>\n",
              "      <td>0</td>\n",
              "      <td>0</td>\n",
              "      <td>0</td>\n",
              "      <td>1</td>\n",
              "      <td>0</td>\n",
              "      <td>0</td>\n",
              "      <td>0</td>\n",
              "      <td>0</td>\n",
              "      <td>1</td>\n",
              "      <td>0</td>\n",
              "      <td>0</td>\n",
              "      <td>0</td>\n",
              "      <td>0</td>\n",
              "      <td>0</td>\n",
              "      <td>1</td>\n",
              "    </tr>\n",
              "    <tr>\n",
              "      <th>3</th>\n",
              "      <td>1</td>\n",
              "      <td>1</td>\n",
              "      <td>0</td>\n",
              "      <td>0</td>\n",
              "      <td>0</td>\n",
              "      <td>0</td>\n",
              "      <td>0</td>\n",
              "      <td>0</td>\n",
              "      <td>1</td>\n",
              "      <td>0</td>\n",
              "      <td>1</td>\n",
              "      <td>0</td>\n",
              "      <td>0</td>\n",
              "      <td>0</td>\n",
              "      <td>1</td>\n",
              "      <td>0</td>\n",
              "      <td>1</td>\n",
              "      <td>1</td>\n",
              "      <td>1</td>\n",
              "      <td>0</td>\n",
              "    </tr>\n",
              "    <tr>\n",
              "      <th>4</th>\n",
              "      <td>1</td>\n",
              "      <td>1</td>\n",
              "      <td>0</td>\n",
              "      <td>0</td>\n",
              "      <td>0</td>\n",
              "      <td>0</td>\n",
              "      <td>0</td>\n",
              "      <td>0</td>\n",
              "      <td>0</td>\n",
              "      <td>0</td>\n",
              "      <td>0</td>\n",
              "      <td>0</td>\n",
              "      <td>0</td>\n",
              "      <td>0</td>\n",
              "      <td>0</td>\n",
              "      <td>0</td>\n",
              "      <td>0</td>\n",
              "      <td>1</td>\n",
              "      <td>0</td>\n",
              "      <td>0</td>\n",
              "    </tr>\n",
              "  </tbody>\n",
              "</table>\n",
              "</div>\n",
              "      <button class=\"colab-df-convert\" onclick=\"convertToInteractive('df-9e927ad8-d5d6-4bb8-bb68-2e88d28ddbcc')\"\n",
              "              title=\"Convert this dataframe to an interactive table.\"\n",
              "              style=\"display:none;\">\n",
              "        \n",
              "  <svg xmlns=\"http://www.w3.org/2000/svg\" height=\"24px\"viewBox=\"0 0 24 24\"\n",
              "       width=\"24px\">\n",
              "    <path d=\"M0 0h24v24H0V0z\" fill=\"none\"/>\n",
              "    <path d=\"M18.56 5.44l.94 2.06.94-2.06 2.06-.94-2.06-.94-.94-2.06-.94 2.06-2.06.94zm-11 1L8.5 8.5l.94-2.06 2.06-.94-2.06-.94L8.5 2.5l-.94 2.06-2.06.94zm10 10l.94 2.06.94-2.06 2.06-.94-2.06-.94-.94-2.06-.94 2.06-2.06.94z\"/><path d=\"M17.41 7.96l-1.37-1.37c-.4-.4-.92-.59-1.43-.59-.52 0-1.04.2-1.43.59L10.3 9.45l-7.72 7.72c-.78.78-.78 2.05 0 2.83L4 21.41c.39.39.9.59 1.41.59.51 0 1.02-.2 1.41-.59l7.78-7.78 2.81-2.81c.8-.78.8-2.07 0-2.86zM5.41 20L4 18.59l7.72-7.72 1.47 1.35L5.41 20z\"/>\n",
              "  </svg>\n",
              "      </button>\n",
              "      \n",
              "  <style>\n",
              "    .colab-df-container {\n",
              "      display:flex;\n",
              "      flex-wrap:wrap;\n",
              "      gap: 12px;\n",
              "    }\n",
              "\n",
              "    .colab-df-convert {\n",
              "      background-color: #E8F0FE;\n",
              "      border: none;\n",
              "      border-radius: 50%;\n",
              "      cursor: pointer;\n",
              "      display: none;\n",
              "      fill: #1967D2;\n",
              "      height: 32px;\n",
              "      padding: 0 0 0 0;\n",
              "      width: 32px;\n",
              "    }\n",
              "\n",
              "    .colab-df-convert:hover {\n",
              "      background-color: #E2EBFA;\n",
              "      box-shadow: 0px 1px 2px rgba(60, 64, 67, 0.3), 0px 1px 3px 1px rgba(60, 64, 67, 0.15);\n",
              "      fill: #174EA6;\n",
              "    }\n",
              "\n",
              "    [theme=dark] .colab-df-convert {\n",
              "      background-color: #3B4455;\n",
              "      fill: #D2E3FC;\n",
              "    }\n",
              "\n",
              "    [theme=dark] .colab-df-convert:hover {\n",
              "      background-color: #434B5C;\n",
              "      box-shadow: 0px 1px 3px 1px rgba(0, 0, 0, 0.15);\n",
              "      filter: drop-shadow(0px 1px 2px rgba(0, 0, 0, 0.3));\n",
              "      fill: #FFFFFF;\n",
              "    }\n",
              "  </style>\n",
              "\n",
              "      <script>\n",
              "        const buttonEl =\n",
              "          document.querySelector('#df-9e927ad8-d5d6-4bb8-bb68-2e88d28ddbcc button.colab-df-convert');\n",
              "        buttonEl.style.display =\n",
              "          google.colab.kernel.accessAllowed ? 'block' : 'none';\n",
              "\n",
              "        async function convertToInteractive(key) {\n",
              "          const element = document.querySelector('#df-9e927ad8-d5d6-4bb8-bb68-2e88d28ddbcc');\n",
              "          const dataTable =\n",
              "            await google.colab.kernel.invokeFunction('convertToInteractive',\n",
              "                                                     [key], {});\n",
              "          if (!dataTable) return;\n",
              "\n",
              "          const docLinkHtml = 'Like what you see? Visit the ' +\n",
              "            '<a target=\"_blank\" href=https://colab.research.google.com/notebooks/data_table.ipynb>data table notebook</a>'\n",
              "            + ' to learn more about interactive tables.';\n",
              "          element.innerHTML = '';\n",
              "          dataTable['output_type'] = 'display_data';\n",
              "          await google.colab.output.renderOutput(dataTable, element);\n",
              "          const docLink = document.createElement('div');\n",
              "          docLink.innerHTML = docLinkHtml;\n",
              "          element.appendChild(docLink);\n",
              "        }\n",
              "      </script>\n",
              "    </div>\n",
              "  </div>\n",
              "  "
            ]
          },
          "metadata": {},
          "execution_count": 125
        }
      ]
    },
    {
      "cell_type": "code",
      "source": [
        "categorical.columns = ['Marital Status',\n",
        "    'Gender',\n",
        "    'Education_1',\n",
        "    'Education_2',\n",
        "    'Education_3',\n",
        "    'Education_4',\n",
        "    'Occupation_1',\n",
        "    'Occupation_2',\n",
        "    'Occupation_3',\n",
        "    'Occupation_4',\n",
        "    'Home Owner',\n",
        "    'Commute Distance_1',\n",
        "    'Commute Distance_2',\n",
        "    'Commute Distance_3',\n",
        "    'Commute Distance_4',\n",
        "    'Region_1',\n",
        "    'Region_2','Target',\n",
        "    'Ctgr Income_1',\n",
        "    'Ctgr Income_2',\n",
        "]"
      ],
      "metadata": {
        "id": "T_iOdYEybNch"
      },
      "execution_count": 126,
      "outputs": []
    },
    {
      "cell_type": "code",
      "source": [
        "processed_data = pd.merge(df.select_dtypes(include='number'), categorical, left_index=True, right_index=True)\n",
        "processed_data.info()"
      ],
      "metadata": {
        "colab": {
          "base_uri": "https://localhost:8080/"
        },
        "id": "GoTcET37eFAd",
        "outputId": "df39ff77-3f77-45b3-b9c9-cc912c7cdeed"
      },
      "execution_count": 127,
      "outputs": [
        {
          "output_type": "stream",
          "name": "stdout",
          "text": [
            "<class 'pandas.core.frame.DataFrame'>\n",
            "RangeIndex: 1000 entries, 0 to 999\n",
            "Data columns (total 28 columns):\n",
            " #   Column                 Non-Null Count  Dtype  \n",
            "---  ------                 --------------  -----  \n",
            " 0   Income                 1000 non-null   float64\n",
            " 1   Children               1000 non-null   float64\n",
            " 2   Cars                   1000 non-null   float64\n",
            " 3   Age                    1000 non-null   float64\n",
            " 4   Ctgr Commute Distance  1000 non-null   int64  \n",
            " 5   LogIncome              1000 non-null   float64\n",
            " 6   LogAge                 1000 non-null   float64\n",
            " 7   CtgrCars               1000 non-null   int8   \n",
            " 8   Marital Status         1000 non-null   uint8  \n",
            " 9   Gender                 1000 non-null   uint8  \n",
            " 10  Education_1            1000 non-null   uint8  \n",
            " 11  Education_2            1000 non-null   uint8  \n",
            " 12  Education_3            1000 non-null   uint8  \n",
            " 13  Education_4            1000 non-null   uint8  \n",
            " 14  Occupation_1           1000 non-null   uint8  \n",
            " 15  Occupation_2           1000 non-null   uint8  \n",
            " 16  Occupation_3           1000 non-null   uint8  \n",
            " 17  Occupation_4           1000 non-null   uint8  \n",
            " 18  Home Owner             1000 non-null   uint8  \n",
            " 19  Commute Distance_1     1000 non-null   uint8  \n",
            " 20  Commute Distance_2     1000 non-null   uint8  \n",
            " 21  Commute Distance_3     1000 non-null   uint8  \n",
            " 22  Commute Distance_4     1000 non-null   uint8  \n",
            " 23  Region_1               1000 non-null   uint8  \n",
            " 24  Region_2               1000 non-null   uint8  \n",
            " 25  Target                 1000 non-null   uint8  \n",
            " 26  Ctgr Income_1          1000 non-null   uint8  \n",
            " 27  Ctgr Income_2          1000 non-null   uint8  \n",
            "dtypes: float64(6), int64(1), int8(1), uint8(20)\n",
            "memory usage: 75.3 KB\n"
          ]
        }
      ]
    },
    {
      "cell_type": "code",
      "source": [
        "processed_data.to_csv('processed_data1.csv',sep=';', index=False)"
      ],
      "metadata": {
        "id": "6wqBbIwjfFcS"
      },
      "execution_count": 128,
      "outputs": []
    },
    {
      "cell_type": "markdown",
      "source": [
        "PRIMERA PRUEBA DEL MODELO DETERMINA QUE EL LOGARITMO DE Income TIENE UNA MAYOR IMPORTANCIA QUE Income\n",
        "-SE ENCUENTRA UNA ALTA CORRELACION ENTRE LA FORMA CATEGORICA DE Cars, entonces se elimina CatgCars por tener menor importancia"
      ],
      "metadata": {
        "id": "kTkzrHhkT-dP"
      }
    },
    {
      "cell_type": "code",
      "source": [
        "processed_data = processed_data.drop(['Income',\n",
        "              'CtgrCars',\n",
        "              ], axis=1)"
      ],
      "metadata": {
        "id": "6HLndTnPUCff"
      },
      "execution_count": 129,
      "outputs": []
    },
    {
      "cell_type": "code",
      "source": [
        "processed_data.to_csv('processed_data2.csv',sep=';', index=False)"
      ],
      "metadata": {
        "id": "50PeDsp9mna6"
      },
      "execution_count": 130,
      "outputs": []
    },
    {
      "cell_type": "code",
      "source": [
        "'''df = df.drop([\n",
        "  'Income',\n",
        "  'CtgrCars',\n",
        "  'Ctgr Income_1',\n",
        "  'Ctgr Income_2',\n",
        "  'Ctgr Income_3',\n",
        "  'Ctgr Income_4',\n",
        "  'Commute Distance_1',\n",
        "  'Commute Distance_2',\n",
        "  'Commute Distance_3',\n",
        "  'Commute Distance_4'\n",
        "], axis=1)'''"
      ],
      "metadata": {
        "colab": {
          "base_uri": "https://localhost:8080/",
          "height": 53
        },
        "id": "5I6-VAPqmgAK",
        "outputId": "5f595447-53a3-4f4d-ac75-7b704c84dcbd"
      },
      "execution_count": 131,
      "outputs": [
        {
          "output_type": "execute_result",
          "data": {
            "text/plain": [
              "\"df = df.drop([\\n  'Income',\\n  'CtgrCars',\\n  'Ctgr Income_1',\\n  'Ctgr Income_2',\\n  'Ctgr Income_3',\\n  'Ctgr Income_4',\\n  'Commute Distance_1',\\n  'Commute Distance_2',\\n  'Commute Distance_3',\\n  'Commute Distance_4'\\n], axis=1)\""
            ],
            "application/vnd.google.colaboratory.intrinsic+json": {
              "type": "string"
            }
          },
          "metadata": {},
          "execution_count": 131
        }
      ]
    }
  ]
}