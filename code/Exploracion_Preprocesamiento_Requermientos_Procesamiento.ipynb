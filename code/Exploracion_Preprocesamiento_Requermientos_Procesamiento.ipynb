{
  "nbformat": 4,
  "nbformat_minor": 0,
  "metadata": {
    "colab": {
      "provenance": [],
      "collapsed_sections": [
        "Ez1bsELKwkgj",
        "_Ydv4ys5Q3jW",
        "sFJK0mkwPnc4",
        "1VSmLJTOOV4H",
        "jKHk0PDjvgAk",
        "pc9aXkdoyxls",
        "2jA9sCjGU056",
        "LrDhOr9ZySge",
        "C78HLAEtJIP-"
      ]
    },
    "kernelspec": {
      "name": "python3",
      "display_name": "Python 3"
    },
    "language_info": {
      "name": "python"
    }
  },
  "cells": [
    {
      "cell_type": "markdown",
      "source": [
        "Importación de librerias"
      ],
      "metadata": {
        "id": "zVC2cSw6sSsO"
      }
    },
    {
      "cell_type": "code",
      "execution_count": 34,
      "metadata": {
        "id": "9PfpD9gN3a22"
      },
      "outputs": [],
      "source": [
        "import pandas as pd\n",
        "import numpy as np\n",
        "import matplotlib.pyplot as plt\n",
        "import seaborn as sns\n",
        "%matplotlib inline"
      ]
    },
    {
      "cell_type": "markdown",
      "source": [
        "# Comprensión de los datos"
      ],
      "metadata": {
        "id": "Ez1bsELKwkgj"
      }
    },
    {
      "cell_type": "markdown",
      "source": [
        "## Cargado de los datos"
      ],
      "metadata": {
        "id": "VVf-1WC3QsuB"
      }
    },
    {
      "cell_type": "code",
      "source": [
        "df = pd.read_csv('bike_buyers.csv')"
      ],
      "metadata": {
        "id": "LJeVJUAh5C7J"
      },
      "execution_count": 35,
      "outputs": []
    },
    {
      "cell_type": "markdown",
      "source": [
        "## Inspección de los datos"
      ],
      "metadata": {
        "id": "_Ydv4ys5Q3jW"
      }
    },
    {
      "cell_type": "code",
      "source": [
        "df.head(10)"
      ],
      "metadata": {
        "id": "mBWD13ZS5rfo",
        "colab": {
          "base_uri": "https://localhost:8080/",
          "height": 0
        },
        "outputId": "3b293137-7c20-4313-c55e-72112738bb25"
      },
      "execution_count": 36,
      "outputs": [
        {
          "output_type": "execute_result",
          "data": {
            "text/plain": [
              "      ID Marital Status  Gender    Income  Children            Education  \\\n",
              "0  12496        Married  Female   40000.0       1.0            Bachelors   \n",
              "1  24107        Married    Male   30000.0       3.0      Partial College   \n",
              "2  14177        Married    Male   80000.0       5.0      Partial College   \n",
              "3  24381         Single     NaN   70000.0       0.0            Bachelors   \n",
              "4  25597         Single    Male   30000.0       0.0            Bachelors   \n",
              "5  13507        Married  Female   10000.0       2.0      Partial College   \n",
              "6  27974         Single    Male  160000.0       2.0          High School   \n",
              "7  19364        Married    Male   40000.0       1.0            Bachelors   \n",
              "8  22155            NaN    Male   20000.0       2.0  Partial High School   \n",
              "9  19280        Married    Male       NaN       2.0      Partial College   \n",
              "\n",
              "       Occupation Home Owner  Cars Commute Distance   Region   Age  \\\n",
              "0  Skilled Manual        Yes   0.0        0-1 Miles   Europe  42.0   \n",
              "1        Clerical        Yes   1.0        0-1 Miles   Europe  43.0   \n",
              "2    Professional         No   2.0        2-5 Miles   Europe  60.0   \n",
              "3    Professional        Yes   1.0       5-10 Miles  Pacific  41.0   \n",
              "4        Clerical         No   0.0        0-1 Miles   Europe  36.0   \n",
              "5          Manual        Yes   0.0        1-2 Miles   Europe  50.0   \n",
              "6      Management        NaN   4.0        0-1 Miles  Pacific  33.0   \n",
              "7  Skilled Manual        Yes   0.0        0-1 Miles   Europe  43.0   \n",
              "8        Clerical        Yes   2.0       5-10 Miles  Pacific  58.0   \n",
              "9          Manual        Yes   1.0        0-1 Miles   Europe   NaN   \n",
              "\n",
              "  Purchased Bike  \n",
              "0             No  \n",
              "1             No  \n",
              "2             No  \n",
              "3            Yes  \n",
              "4            Yes  \n",
              "5             No  \n",
              "6            Yes  \n",
              "7            Yes  \n",
              "8             No  \n",
              "9            Yes  "
            ],
            "text/html": [
              "\n",
              "  <div id=\"df-c679af58-aab6-472b-8534-f5d02af64efb\">\n",
              "    <div class=\"colab-df-container\">\n",
              "      <div>\n",
              "<style scoped>\n",
              "    .dataframe tbody tr th:only-of-type {\n",
              "        vertical-align: middle;\n",
              "    }\n",
              "\n",
              "    .dataframe tbody tr th {\n",
              "        vertical-align: top;\n",
              "    }\n",
              "\n",
              "    .dataframe thead th {\n",
              "        text-align: right;\n",
              "    }\n",
              "</style>\n",
              "<table border=\"1\" class=\"dataframe\">\n",
              "  <thead>\n",
              "    <tr style=\"text-align: right;\">\n",
              "      <th></th>\n",
              "      <th>ID</th>\n",
              "      <th>Marital Status</th>\n",
              "      <th>Gender</th>\n",
              "      <th>Income</th>\n",
              "      <th>Children</th>\n",
              "      <th>Education</th>\n",
              "      <th>Occupation</th>\n",
              "      <th>Home Owner</th>\n",
              "      <th>Cars</th>\n",
              "      <th>Commute Distance</th>\n",
              "      <th>Region</th>\n",
              "      <th>Age</th>\n",
              "      <th>Purchased Bike</th>\n",
              "    </tr>\n",
              "  </thead>\n",
              "  <tbody>\n",
              "    <tr>\n",
              "      <th>0</th>\n",
              "      <td>12496</td>\n",
              "      <td>Married</td>\n",
              "      <td>Female</td>\n",
              "      <td>40000.0</td>\n",
              "      <td>1.0</td>\n",
              "      <td>Bachelors</td>\n",
              "      <td>Skilled Manual</td>\n",
              "      <td>Yes</td>\n",
              "      <td>0.0</td>\n",
              "      <td>0-1 Miles</td>\n",
              "      <td>Europe</td>\n",
              "      <td>42.0</td>\n",
              "      <td>No</td>\n",
              "    </tr>\n",
              "    <tr>\n",
              "      <th>1</th>\n",
              "      <td>24107</td>\n",
              "      <td>Married</td>\n",
              "      <td>Male</td>\n",
              "      <td>30000.0</td>\n",
              "      <td>3.0</td>\n",
              "      <td>Partial College</td>\n",
              "      <td>Clerical</td>\n",
              "      <td>Yes</td>\n",
              "      <td>1.0</td>\n",
              "      <td>0-1 Miles</td>\n",
              "      <td>Europe</td>\n",
              "      <td>43.0</td>\n",
              "      <td>No</td>\n",
              "    </tr>\n",
              "    <tr>\n",
              "      <th>2</th>\n",
              "      <td>14177</td>\n",
              "      <td>Married</td>\n",
              "      <td>Male</td>\n",
              "      <td>80000.0</td>\n",
              "      <td>5.0</td>\n",
              "      <td>Partial College</td>\n",
              "      <td>Professional</td>\n",
              "      <td>No</td>\n",
              "      <td>2.0</td>\n",
              "      <td>2-5 Miles</td>\n",
              "      <td>Europe</td>\n",
              "      <td>60.0</td>\n",
              "      <td>No</td>\n",
              "    </tr>\n",
              "    <tr>\n",
              "      <th>3</th>\n",
              "      <td>24381</td>\n",
              "      <td>Single</td>\n",
              "      <td>NaN</td>\n",
              "      <td>70000.0</td>\n",
              "      <td>0.0</td>\n",
              "      <td>Bachelors</td>\n",
              "      <td>Professional</td>\n",
              "      <td>Yes</td>\n",
              "      <td>1.0</td>\n",
              "      <td>5-10 Miles</td>\n",
              "      <td>Pacific</td>\n",
              "      <td>41.0</td>\n",
              "      <td>Yes</td>\n",
              "    </tr>\n",
              "    <tr>\n",
              "      <th>4</th>\n",
              "      <td>25597</td>\n",
              "      <td>Single</td>\n",
              "      <td>Male</td>\n",
              "      <td>30000.0</td>\n",
              "      <td>0.0</td>\n",
              "      <td>Bachelors</td>\n",
              "      <td>Clerical</td>\n",
              "      <td>No</td>\n",
              "      <td>0.0</td>\n",
              "      <td>0-1 Miles</td>\n",
              "      <td>Europe</td>\n",
              "      <td>36.0</td>\n",
              "      <td>Yes</td>\n",
              "    </tr>\n",
              "    <tr>\n",
              "      <th>5</th>\n",
              "      <td>13507</td>\n",
              "      <td>Married</td>\n",
              "      <td>Female</td>\n",
              "      <td>10000.0</td>\n",
              "      <td>2.0</td>\n",
              "      <td>Partial College</td>\n",
              "      <td>Manual</td>\n",
              "      <td>Yes</td>\n",
              "      <td>0.0</td>\n",
              "      <td>1-2 Miles</td>\n",
              "      <td>Europe</td>\n",
              "      <td>50.0</td>\n",
              "      <td>No</td>\n",
              "    </tr>\n",
              "    <tr>\n",
              "      <th>6</th>\n",
              "      <td>27974</td>\n",
              "      <td>Single</td>\n",
              "      <td>Male</td>\n",
              "      <td>160000.0</td>\n",
              "      <td>2.0</td>\n",
              "      <td>High School</td>\n",
              "      <td>Management</td>\n",
              "      <td>NaN</td>\n",
              "      <td>4.0</td>\n",
              "      <td>0-1 Miles</td>\n",
              "      <td>Pacific</td>\n",
              "      <td>33.0</td>\n",
              "      <td>Yes</td>\n",
              "    </tr>\n",
              "    <tr>\n",
              "      <th>7</th>\n",
              "      <td>19364</td>\n",
              "      <td>Married</td>\n",
              "      <td>Male</td>\n",
              "      <td>40000.0</td>\n",
              "      <td>1.0</td>\n",
              "      <td>Bachelors</td>\n",
              "      <td>Skilled Manual</td>\n",
              "      <td>Yes</td>\n",
              "      <td>0.0</td>\n",
              "      <td>0-1 Miles</td>\n",
              "      <td>Europe</td>\n",
              "      <td>43.0</td>\n",
              "      <td>Yes</td>\n",
              "    </tr>\n",
              "    <tr>\n",
              "      <th>8</th>\n",
              "      <td>22155</td>\n",
              "      <td>NaN</td>\n",
              "      <td>Male</td>\n",
              "      <td>20000.0</td>\n",
              "      <td>2.0</td>\n",
              "      <td>Partial High School</td>\n",
              "      <td>Clerical</td>\n",
              "      <td>Yes</td>\n",
              "      <td>2.0</td>\n",
              "      <td>5-10 Miles</td>\n",
              "      <td>Pacific</td>\n",
              "      <td>58.0</td>\n",
              "      <td>No</td>\n",
              "    </tr>\n",
              "    <tr>\n",
              "      <th>9</th>\n",
              "      <td>19280</td>\n",
              "      <td>Married</td>\n",
              "      <td>Male</td>\n",
              "      <td>NaN</td>\n",
              "      <td>2.0</td>\n",
              "      <td>Partial College</td>\n",
              "      <td>Manual</td>\n",
              "      <td>Yes</td>\n",
              "      <td>1.0</td>\n",
              "      <td>0-1 Miles</td>\n",
              "      <td>Europe</td>\n",
              "      <td>NaN</td>\n",
              "      <td>Yes</td>\n",
              "    </tr>\n",
              "  </tbody>\n",
              "</table>\n",
              "</div>\n",
              "      <button class=\"colab-df-convert\" onclick=\"convertToInteractive('df-c679af58-aab6-472b-8534-f5d02af64efb')\"\n",
              "              title=\"Convert this dataframe to an interactive table.\"\n",
              "              style=\"display:none;\">\n",
              "        \n",
              "  <svg xmlns=\"http://www.w3.org/2000/svg\" height=\"24px\"viewBox=\"0 0 24 24\"\n",
              "       width=\"24px\">\n",
              "    <path d=\"M0 0h24v24H0V0z\" fill=\"none\"/>\n",
              "    <path d=\"M18.56 5.44l.94 2.06.94-2.06 2.06-.94-2.06-.94-.94-2.06-.94 2.06-2.06.94zm-11 1L8.5 8.5l.94-2.06 2.06-.94-2.06-.94L8.5 2.5l-.94 2.06-2.06.94zm10 10l.94 2.06.94-2.06 2.06-.94-2.06-.94-.94-2.06-.94 2.06-2.06.94z\"/><path d=\"M17.41 7.96l-1.37-1.37c-.4-.4-.92-.59-1.43-.59-.52 0-1.04.2-1.43.59L10.3 9.45l-7.72 7.72c-.78.78-.78 2.05 0 2.83L4 21.41c.39.39.9.59 1.41.59.51 0 1.02-.2 1.41-.59l7.78-7.78 2.81-2.81c.8-.78.8-2.07 0-2.86zM5.41 20L4 18.59l7.72-7.72 1.47 1.35L5.41 20z\"/>\n",
              "  </svg>\n",
              "      </button>\n",
              "      \n",
              "  <style>\n",
              "    .colab-df-container {\n",
              "      display:flex;\n",
              "      flex-wrap:wrap;\n",
              "      gap: 12px;\n",
              "    }\n",
              "\n",
              "    .colab-df-convert {\n",
              "      background-color: #E8F0FE;\n",
              "      border: none;\n",
              "      border-radius: 50%;\n",
              "      cursor: pointer;\n",
              "      display: none;\n",
              "      fill: #1967D2;\n",
              "      height: 32px;\n",
              "      padding: 0 0 0 0;\n",
              "      width: 32px;\n",
              "    }\n",
              "\n",
              "    .colab-df-convert:hover {\n",
              "      background-color: #E2EBFA;\n",
              "      box-shadow: 0px 1px 2px rgba(60, 64, 67, 0.3), 0px 1px 3px 1px rgba(60, 64, 67, 0.15);\n",
              "      fill: #174EA6;\n",
              "    }\n",
              "\n",
              "    [theme=dark] .colab-df-convert {\n",
              "      background-color: #3B4455;\n",
              "      fill: #D2E3FC;\n",
              "    }\n",
              "\n",
              "    [theme=dark] .colab-df-convert:hover {\n",
              "      background-color: #434B5C;\n",
              "      box-shadow: 0px 1px 3px 1px rgba(0, 0, 0, 0.15);\n",
              "      filter: drop-shadow(0px 1px 2px rgba(0, 0, 0, 0.3));\n",
              "      fill: #FFFFFF;\n",
              "    }\n",
              "  </style>\n",
              "\n",
              "      <script>\n",
              "        const buttonEl =\n",
              "          document.querySelector('#df-c679af58-aab6-472b-8534-f5d02af64efb button.colab-df-convert');\n",
              "        buttonEl.style.display =\n",
              "          google.colab.kernel.accessAllowed ? 'block' : 'none';\n",
              "\n",
              "        async function convertToInteractive(key) {\n",
              "          const element = document.querySelector('#df-c679af58-aab6-472b-8534-f5d02af64efb');\n",
              "          const dataTable =\n",
              "            await google.colab.kernel.invokeFunction('convertToInteractive',\n",
              "                                                     [key], {});\n",
              "          if (!dataTable) return;\n",
              "\n",
              "          const docLinkHtml = 'Like what you see? Visit the ' +\n",
              "            '<a target=\"_blank\" href=https://colab.research.google.com/notebooks/data_table.ipynb>data table notebook</a>'\n",
              "            + ' to learn more about interactive tables.';\n",
              "          element.innerHTML = '';\n",
              "          dataTable['output_type'] = 'display_data';\n",
              "          await google.colab.output.renderOutput(dataTable, element);\n",
              "          const docLink = document.createElement('div');\n",
              "          docLink.innerHTML = docLinkHtml;\n",
              "          element.appendChild(docLink);\n",
              "        }\n",
              "      </script>\n",
              "    </div>\n",
              "  </div>\n",
              "  "
            ]
          },
          "metadata": {},
          "execution_count": 36
        }
      ]
    },
    {
      "cell_type": "code",
      "source": [
        "df.describe()"
      ],
      "metadata": {
        "id": "8Jit-r9a5Gui",
        "colab": {
          "base_uri": "https://localhost:8080/",
          "height": 0
        },
        "outputId": "d4eee004-b83d-4f3c-c9b7-b74ca79db932"
      },
      "execution_count": 37,
      "outputs": [
        {
          "output_type": "execute_result",
          "data": {
            "text/plain": [
              "                 ID         Income    Children        Cars         Age\n",
              "count   1000.000000     994.000000  992.000000  991.000000  992.000000\n",
              "mean   19965.992000   56267.605634    1.910282    1.455096   44.181452\n",
              "std     5347.333948   31067.817462    1.626910    1.121755   11.362007\n",
              "min    11000.000000   10000.000000    0.000000    0.000000   25.000000\n",
              "25%    15290.750000   30000.000000    0.000000    1.000000   35.000000\n",
              "50%    19744.000000   60000.000000    2.000000    1.000000   43.000000\n",
              "75%    24470.750000   70000.000000    3.000000    2.000000   52.000000\n",
              "max    29447.000000  170000.000000    5.000000    4.000000   89.000000"
            ],
            "text/html": [
              "\n",
              "  <div id=\"df-ffd70dc9-8866-4752-896e-1b334171d038\">\n",
              "    <div class=\"colab-df-container\">\n",
              "      <div>\n",
              "<style scoped>\n",
              "    .dataframe tbody tr th:only-of-type {\n",
              "        vertical-align: middle;\n",
              "    }\n",
              "\n",
              "    .dataframe tbody tr th {\n",
              "        vertical-align: top;\n",
              "    }\n",
              "\n",
              "    .dataframe thead th {\n",
              "        text-align: right;\n",
              "    }\n",
              "</style>\n",
              "<table border=\"1\" class=\"dataframe\">\n",
              "  <thead>\n",
              "    <tr style=\"text-align: right;\">\n",
              "      <th></th>\n",
              "      <th>ID</th>\n",
              "      <th>Income</th>\n",
              "      <th>Children</th>\n",
              "      <th>Cars</th>\n",
              "      <th>Age</th>\n",
              "    </tr>\n",
              "  </thead>\n",
              "  <tbody>\n",
              "    <tr>\n",
              "      <th>count</th>\n",
              "      <td>1000.000000</td>\n",
              "      <td>994.000000</td>\n",
              "      <td>992.000000</td>\n",
              "      <td>991.000000</td>\n",
              "      <td>992.000000</td>\n",
              "    </tr>\n",
              "    <tr>\n",
              "      <th>mean</th>\n",
              "      <td>19965.992000</td>\n",
              "      <td>56267.605634</td>\n",
              "      <td>1.910282</td>\n",
              "      <td>1.455096</td>\n",
              "      <td>44.181452</td>\n",
              "    </tr>\n",
              "    <tr>\n",
              "      <th>std</th>\n",
              "      <td>5347.333948</td>\n",
              "      <td>31067.817462</td>\n",
              "      <td>1.626910</td>\n",
              "      <td>1.121755</td>\n",
              "      <td>11.362007</td>\n",
              "    </tr>\n",
              "    <tr>\n",
              "      <th>min</th>\n",
              "      <td>11000.000000</td>\n",
              "      <td>10000.000000</td>\n",
              "      <td>0.000000</td>\n",
              "      <td>0.000000</td>\n",
              "      <td>25.000000</td>\n",
              "    </tr>\n",
              "    <tr>\n",
              "      <th>25%</th>\n",
              "      <td>15290.750000</td>\n",
              "      <td>30000.000000</td>\n",
              "      <td>0.000000</td>\n",
              "      <td>1.000000</td>\n",
              "      <td>35.000000</td>\n",
              "    </tr>\n",
              "    <tr>\n",
              "      <th>50%</th>\n",
              "      <td>19744.000000</td>\n",
              "      <td>60000.000000</td>\n",
              "      <td>2.000000</td>\n",
              "      <td>1.000000</td>\n",
              "      <td>43.000000</td>\n",
              "    </tr>\n",
              "    <tr>\n",
              "      <th>75%</th>\n",
              "      <td>24470.750000</td>\n",
              "      <td>70000.000000</td>\n",
              "      <td>3.000000</td>\n",
              "      <td>2.000000</td>\n",
              "      <td>52.000000</td>\n",
              "    </tr>\n",
              "    <tr>\n",
              "      <th>max</th>\n",
              "      <td>29447.000000</td>\n",
              "      <td>170000.000000</td>\n",
              "      <td>5.000000</td>\n",
              "      <td>4.000000</td>\n",
              "      <td>89.000000</td>\n",
              "    </tr>\n",
              "  </tbody>\n",
              "</table>\n",
              "</div>\n",
              "      <button class=\"colab-df-convert\" onclick=\"convertToInteractive('df-ffd70dc9-8866-4752-896e-1b334171d038')\"\n",
              "              title=\"Convert this dataframe to an interactive table.\"\n",
              "              style=\"display:none;\">\n",
              "        \n",
              "  <svg xmlns=\"http://www.w3.org/2000/svg\" height=\"24px\"viewBox=\"0 0 24 24\"\n",
              "       width=\"24px\">\n",
              "    <path d=\"M0 0h24v24H0V0z\" fill=\"none\"/>\n",
              "    <path d=\"M18.56 5.44l.94 2.06.94-2.06 2.06-.94-2.06-.94-.94-2.06-.94 2.06-2.06.94zm-11 1L8.5 8.5l.94-2.06 2.06-.94-2.06-.94L8.5 2.5l-.94 2.06-2.06.94zm10 10l.94 2.06.94-2.06 2.06-.94-2.06-.94-.94-2.06-.94 2.06-2.06.94z\"/><path d=\"M17.41 7.96l-1.37-1.37c-.4-.4-.92-.59-1.43-.59-.52 0-1.04.2-1.43.59L10.3 9.45l-7.72 7.72c-.78.78-.78 2.05 0 2.83L4 21.41c.39.39.9.59 1.41.59.51 0 1.02-.2 1.41-.59l7.78-7.78 2.81-2.81c.8-.78.8-2.07 0-2.86zM5.41 20L4 18.59l7.72-7.72 1.47 1.35L5.41 20z\"/>\n",
              "  </svg>\n",
              "      </button>\n",
              "      \n",
              "  <style>\n",
              "    .colab-df-container {\n",
              "      display:flex;\n",
              "      flex-wrap:wrap;\n",
              "      gap: 12px;\n",
              "    }\n",
              "\n",
              "    .colab-df-convert {\n",
              "      background-color: #E8F0FE;\n",
              "      border: none;\n",
              "      border-radius: 50%;\n",
              "      cursor: pointer;\n",
              "      display: none;\n",
              "      fill: #1967D2;\n",
              "      height: 32px;\n",
              "      padding: 0 0 0 0;\n",
              "      width: 32px;\n",
              "    }\n",
              "\n",
              "    .colab-df-convert:hover {\n",
              "      background-color: #E2EBFA;\n",
              "      box-shadow: 0px 1px 2px rgba(60, 64, 67, 0.3), 0px 1px 3px 1px rgba(60, 64, 67, 0.15);\n",
              "      fill: #174EA6;\n",
              "    }\n",
              "\n",
              "    [theme=dark] .colab-df-convert {\n",
              "      background-color: #3B4455;\n",
              "      fill: #D2E3FC;\n",
              "    }\n",
              "\n",
              "    [theme=dark] .colab-df-convert:hover {\n",
              "      background-color: #434B5C;\n",
              "      box-shadow: 0px 1px 3px 1px rgba(0, 0, 0, 0.15);\n",
              "      filter: drop-shadow(0px 1px 2px rgba(0, 0, 0, 0.3));\n",
              "      fill: #FFFFFF;\n",
              "    }\n",
              "  </style>\n",
              "\n",
              "      <script>\n",
              "        const buttonEl =\n",
              "          document.querySelector('#df-ffd70dc9-8866-4752-896e-1b334171d038 button.colab-df-convert');\n",
              "        buttonEl.style.display =\n",
              "          google.colab.kernel.accessAllowed ? 'block' : 'none';\n",
              "\n",
              "        async function convertToInteractive(key) {\n",
              "          const element = document.querySelector('#df-ffd70dc9-8866-4752-896e-1b334171d038');\n",
              "          const dataTable =\n",
              "            await google.colab.kernel.invokeFunction('convertToInteractive',\n",
              "                                                     [key], {});\n",
              "          if (!dataTable) return;\n",
              "\n",
              "          const docLinkHtml = 'Like what you see? Visit the ' +\n",
              "            '<a target=\"_blank\" href=https://colab.research.google.com/notebooks/data_table.ipynb>data table notebook</a>'\n",
              "            + ' to learn more about interactive tables.';\n",
              "          element.innerHTML = '';\n",
              "          dataTable['output_type'] = 'display_data';\n",
              "          await google.colab.output.renderOutput(dataTable, element);\n",
              "          const docLink = document.createElement('div');\n",
              "          docLink.innerHTML = docLinkHtml;\n",
              "          element.appendChild(docLink);\n",
              "        }\n",
              "      </script>\n",
              "    </div>\n",
              "  </div>\n",
              "  "
            ]
          },
          "metadata": {},
          "execution_count": 37
        }
      ]
    },
    {
      "cell_type": "code",
      "source": [
        "#ajuste en el tipo de datos para manejo simplificado\n",
        "df['Marital Status'] = df['Marital Status'].astype('category')\n",
        "df['Gender'] = df['Gender'].astype('category')\n",
        "df['Education'] = df['Education'].astype('category')\n",
        "df['Occupation'] = df['Occupation'].astype('category')\n",
        "df['Home Owner'] = df['Home Owner'].astype('category')\n",
        "df['Commute Distance'] = df['Commute Distance'].astype('category')\n",
        "df['Region'] = df['Region'].astype('category')\n",
        "df['Purchased Bike'] = df['Purchased Bike'].astype('category')\n",
        "\n",
        "df.info()"
      ],
      "metadata": {
        "id": "zG0D9UCDJVo6",
        "colab": {
          "base_uri": "https://localhost:8080/"
        },
        "outputId": "c62083e2-b23a-423e-e19f-b11d2cc6a611"
      },
      "execution_count": 38,
      "outputs": [
        {
          "output_type": "stream",
          "name": "stdout",
          "text": [
            "<class 'pandas.core.frame.DataFrame'>\n",
            "RangeIndex: 1000 entries, 0 to 999\n",
            "Data columns (total 13 columns):\n",
            " #   Column            Non-Null Count  Dtype   \n",
            "---  ------            --------------  -----   \n",
            " 0   ID                1000 non-null   int64   \n",
            " 1   Marital Status    993 non-null    category\n",
            " 2   Gender            989 non-null    category\n",
            " 3   Income            994 non-null    float64 \n",
            " 4   Children          992 non-null    float64 \n",
            " 5   Education         1000 non-null   category\n",
            " 6   Occupation        1000 non-null   category\n",
            " 7   Home Owner        996 non-null    category\n",
            " 8   Cars              991 non-null    float64 \n",
            " 9   Commute Distance  1000 non-null   category\n",
            " 10  Region            1000 non-null   category\n",
            " 11  Age               992 non-null    float64 \n",
            " 12  Purchased Bike    1000 non-null   category\n",
            "dtypes: category(8), float64(4), int64(1)\n",
            "memory usage: 48.2 KB\n"
          ]
        }
      ]
    },
    {
      "cell_type": "markdown",
      "source": [
        "## Visualización de los datos"
      ],
      "metadata": {
        "id": "sFJK0mkwPnc4"
      }
    },
    {
      "cell_type": "code",
      "source": [
        "numeric_cols = df.drop('ID', axis=1).select_dtypes(include='number').columns\n",
        "categoric_cols = df.drop(numeric_cols, axis=1).columns"
      ],
      "metadata": {
        "id": "BYZ-E82A148u"
      },
      "execution_count": 39,
      "outputs": []
    },
    {
      "cell_type": "code",
      "source": [
        "sns.pairplot(df[numeric_cols])"
      ],
      "metadata": {
        "colab": {
          "base_uri": "https://localhost:8080/",
          "height": 0
        },
        "id": "yQ2oMb7f0PM-",
        "outputId": "2d5014f1-77c1-4eb7-d2af-04302690b0c3"
      },
      "execution_count": 40,
      "outputs": [
        {
          "output_type": "execute_result",
          "data": {
            "text/plain": [
              "<seaborn.axisgrid.PairGrid at 0x7fec83affa90>"
            ]
          },
          "metadata": {},
          "execution_count": 40
        },
        {
          "output_type": "display_data",
          "data": {
            "text/plain": [
              "<Figure size 1000x1000 with 20 Axes>"
            ],
            "image/png": "[encoded data removed]"
          },
          "metadata": {}
        }
      ]
    },
    {
      "cell_type": "code",
      "source": [
        "fig, axes = plt.subplots(nrows=2, ncols=2, figsize=(10, 8))\n",
        "for i in range(len(numeric_cols)):\n",
        "    sns.histplot(data=df[numeric_cols[i]], ax= axes[i%2,int(i/2)])\n",
        "fig.show"
      ],
      "metadata": {
        "id": "Hx1MvWjhPmFi",
        "colab": {
          "base_uri": "https://localhost:8080/",
          "height": 0
        },
        "outputId": "fa1c815e-18cf-4917-9f61-aa02783d2349"
      },
      "execution_count": 41,
      "outputs": [
        {
          "output_type": "execute_result",
          "data": {
            "text/plain": [
              "<bound method Figure.show of <Figure size 1000x800 with 4 Axes>>"
            ]
          },
          "metadata": {},
          "execution_count": 41
        },
        {
          "output_type": "display_data",
          "data": {
            "text/plain": [
              "<Figure size 1000x800 with 4 Axes>"
            ],
            "image/png": "[encoded data removed]"
          },
          "metadata": {}
        }
      ]
    },
    {
      "cell_type": "code",
      "source": [
        "sns.heatmap(df[numeric_cols].corr(), annot=True)"
      ],
      "metadata": {
        "colab": {
          "base_uri": "https://localhost:8080/",
          "height": 0
        },
        "id": "k8n9B5H10W2o",
        "outputId": "bc1e29c9-2717-4fc5-d12f-28a6ab90f0fa"
      },
      "execution_count": 42,
      "outputs": [
        {
          "output_type": "execute_result",
          "data": {
            "text/plain": [
              "<Axes: >"
            ]
          },
          "metadata": {},
          "execution_count": 42
        },
        {
          "output_type": "display_data",
          "data": {
            "text/plain": [
              "<Figure size 640x480 with 2 Axes>"
            ],
            "image/png": "[encoded data removed]"
          },
          "metadata": {}
        }
      ]
    },
    {
      "cell_type": "markdown",
      "source": [
        "# Preprocesamiento de los datos"
      ],
      "metadata": {
        "id": "1VSmLJTOOV4H"
      }
    },
    {
      "cell_type": "markdown",
      "source": [
        "## Calidad de los datos"
      ],
      "metadata": {
        "id": "jKHk0PDjvgAk"
      }
    },
    {
      "cell_type": "code",
      "source": [
        "#Datos repetidos?\n",
        "len(df['ID'].unique()) != len(df['ID'])"
      ],
      "metadata": {
        "id": "Ickmy3R6pekx",
        "colab": {
          "base_uri": "https://localhost:8080/"
        },
        "outputId": "5cc4f535-c198-4f60-9a97-ecd473c5c216"
      },
      "execution_count": 43,
      "outputs": [
        {
          "output_type": "execute_result",
          "data": {
            "text/plain": [
              "False"
            ]
          },
          "metadata": {},
          "execution_count": 43
        }
      ]
    },
    {
      "cell_type": "code",
      "source": [
        "#elimina columnas con un porcentaje de datos faltantes mayor a 20%\n",
        "percent = 0.20\n",
        "df = df.dropna(thresh = df.shape[0] - np.ceil(df.shape[0] * percent), axis=1)\n",
        "print(list(df.columns))"
      ],
      "metadata": {
        "id": "uJ8TqfpG5S1S",
        "colab": {
          "base_uri": "https://localhost:8080/"
        },
        "outputId": "64536b91-d794-432e-92a0-acc9fb61fff4"
      },
      "execution_count": 44,
      "outputs": [
        {
          "output_type": "stream",
          "name": "stdout",
          "text": [
            "['ID', 'Marital Status', 'Gender', 'Income', 'Children', 'Education', 'Occupation', 'Home Owner', 'Cars', 'Commute Distance', 'Region', 'Age', 'Purchased Bike']\n"
          ]
        }
      ]
    },
    {
      "cell_type": "code",
      "source": [
        "#Crear una copia de ID y Purchased Bike\n",
        "df['Purchased Bike'].replace({'No': 0, 'Yes': 1}, inplace=True)\n",
        "df_index = df[['ID', 'Purchased Bike']]\n",
        "df_index.columns = ['ID', 'Target']\n",
        "df = df.drop(['ID'], axis = 1)"
      ],
      "metadata": {
        "id": "1aG1sIRavtFq"
      },
      "execution_count": 45,
      "outputs": []
    },
    {
      "cell_type": "code",
      "source": [
        "df_index.to_csv('index_data.csv',sep=';', index=False)"
      ],
      "metadata": {
        "id": "VSDIHwDVeRld"
      },
      "execution_count": 46,
      "outputs": []
    },
    {
      "cell_type": "markdown",
      "source": [
        "## Tratamiento de datos faltantes"
      ],
      "metadata": {
        "id": "pc9aXkdoyxls"
      }
    },
    {
      "cell_type": "code",
      "source": [
        "#separamos las variables numericas de las no numericas\n",
        "numeric_cols = df.select_dtypes(include='number').columns\n",
        "categoric_cols = df.select_dtypes(include='category').columns"
      ],
      "metadata": {
        "id": "7Lc4XspGUIQm"
      },
      "execution_count": 47,
      "outputs": []
    },
    {
      "cell_type": "code",
      "source": [
        "#Revisar que no exista un error de ingreso\n",
        "for col in categoric_cols:\n",
        "    categorias = df[col].cat.categories\n",
        "    print(f\"{col}:\\n{[c for c in categorias]}\")"
      ],
      "metadata": {
        "id": "2nfT5KKeJU8g",
        "colab": {
          "base_uri": "https://localhost:8080/"
        },
        "outputId": "70fdda8b-fbda-4d83-95f0-fe0e7938fac8"
      },
      "execution_count": 48,
      "outputs": [
        {
          "output_type": "stream",
          "name": "stdout",
          "text": [
            "Marital Status:\n",
            "['Married', 'Single']\n",
            "Gender:\n",
            "['Female', 'Male']\n",
            "Education:\n",
            "['Bachelors', 'Graduate Degree', 'High School', 'Partial College', 'Partial High School']\n",
            "Occupation:\n",
            "['Clerical', 'Management', 'Manual', 'Professional', 'Skilled Manual']\n",
            "Home Owner:\n",
            "['No', 'Yes']\n",
            "Commute Distance:\n",
            "['0-1 Miles', '1-2 Miles', '10+ Miles', '2-5 Miles', '5-10 Miles']\n",
            "Region:\n",
            "['Europe', 'North America', 'Pacific']\n",
            "Purchased Bike:\n",
            "[0, 1]\n"
          ]
        }
      ]
    },
    {
      "cell_type": "code",
      "source": [
        "for col in numeric_cols:\n",
        "    Q1 = df[col].quantile(0.25)\n",
        "    Q3 = df[col].quantile(0.75)\n",
        "    IQR = Q3 - Q1\n",
        "    min = Q1 - 1.5 * IQR\n",
        "    max = Q3 + 1.5 * IQR\n",
        "    df_outliers = df[(df[col] < min) | (df[col] > max)][col]\n",
        "    print(str(col), df_outliers.shape[0])"
      ],
      "metadata": {
        "id": "OVNXBIH7V8gI",
        "colab": {
          "base_uri": "https://localhost:8080/"
        },
        "outputId": "858bc691-118d-43e2-a24d-fc5f2301dad6"
      },
      "execution_count": 49,
      "outputs": [
        {
          "output_type": "stream",
          "name": "stdout",
          "text": [
            "Income 10\n",
            "Children 0\n",
            "Cars 59\n",
            "Age 4\n"
          ]
        }
      ]
    },
    {
      "cell_type": "code",
      "source": [
        "for col in numeric_cols:\n",
        "    df[col].fillna(value=df[col].median(), inplace=True)"
      ],
      "metadata": {
        "id": "mDfC5wR8d-5z"
      },
      "execution_count": 50,
      "outputs": []
    },
    {
      "cell_type": "code",
      "source": [
        "df.info()"
      ],
      "metadata": {
        "id": "0Uin9YrZUuPY",
        "colab": {
          "base_uri": "https://localhost:8080/"
        },
        "outputId": "3c391f48-0533-4503-e2e6-cedc021e1fe1"
      },
      "execution_count": 51,
      "outputs": [
        {
          "output_type": "stream",
          "name": "stdout",
          "text": [
            "<class 'pandas.core.frame.DataFrame'>\n",
            "RangeIndex: 1000 entries, 0 to 999\n",
            "Data columns (total 12 columns):\n",
            " #   Column            Non-Null Count  Dtype   \n",
            "---  ------            --------------  -----   \n",
            " 0   Marital Status    993 non-null    category\n",
            " 1   Gender            989 non-null    category\n",
            " 2   Income            1000 non-null   float64 \n",
            " 3   Children          1000 non-null   float64 \n",
            " 4   Education         1000 non-null   category\n",
            " 5   Occupation        1000 non-null   category\n",
            " 6   Home Owner        996 non-null    category\n",
            " 7   Cars              1000 non-null   float64 \n",
            " 8   Commute Distance  1000 non-null   category\n",
            " 9   Region            1000 non-null   category\n",
            " 10  Age               1000 non-null   float64 \n",
            " 11  Purchased Bike    1000 non-null   category\n",
            "dtypes: category(8), float64(4)\n",
            "memory usage: 40.4 KB\n"
          ]
        }
      ]
    },
    {
      "cell_type": "code",
      "source": [
        "#Reemplazar valores categoricos faltantes por la moda\n",
        "for col in categoric_cols[0:]:\n",
        "    df[col].fillna(value=df[col].mode()[0], inplace=True)"
      ],
      "metadata": {
        "id": "ULLflbeX0QTq"
      },
      "execution_count": 52,
      "outputs": []
    },
    {
      "cell_type": "code",
      "source": [
        "df.info()"
      ],
      "metadata": {
        "id": "SUmy0wrQtxmS",
        "colab": {
          "base_uri": "https://localhost:8080/"
        },
        "outputId": "f4c0f7a6-1e28-4281-c235-12f3d9d6d2e6"
      },
      "execution_count": 53,
      "outputs": [
        {
          "output_type": "stream",
          "name": "stdout",
          "text": [
            "<class 'pandas.core.frame.DataFrame'>\n",
            "RangeIndex: 1000 entries, 0 to 999\n",
            "Data columns (total 12 columns):\n",
            " #   Column            Non-Null Count  Dtype   \n",
            "---  ------            --------------  -----   \n",
            " 0   Marital Status    1000 non-null   category\n",
            " 1   Gender            1000 non-null   category\n",
            " 2   Income            1000 non-null   float64 \n",
            " 3   Children          1000 non-null   float64 \n",
            " 4   Education         1000 non-null   category\n",
            " 5   Occupation        1000 non-null   category\n",
            " 6   Home Owner        1000 non-null   category\n",
            " 7   Cars              1000 non-null   float64 \n",
            " 8   Commute Distance  1000 non-null   category\n",
            " 9   Region            1000 non-null   category\n",
            " 10  Age               1000 non-null   float64 \n",
            " 11  Purchased Bike    1000 non-null   category\n",
            "dtypes: category(8), float64(4)\n",
            "memory usage: 40.4 KB\n"
          ]
        }
      ]
    },
    {
      "cell_type": "code",
      "source": [
        "#data necesaria para Requerimientos\n",
        "df.to_csv('requirement_data.csv',sep=';', index=False)"
      ],
      "metadata": {
        "id": "ylI8R5xVpUGX"
      },
      "execution_count": 54,
      "outputs": []
    },
    {
      "cell_type": "markdown",
      "source": [
        "## Creación de columnas"
      ],
      "metadata": {
        "id": "2jA9sCjGU056"
      }
    },
    {
      "cell_type": "code",
      "source": [
        "#Se trata de un rango por lo cual tambien se puede tratar como una variable jerarquica\n",
        "df['Commute Distance Num'] = df['Commute Distance'].replace({'0-1 Miles': 1,'1-2 Miles': 2, '2-5 Miles': 3, '5-10 Miles': 4, '10+ Miles': 5}).astype('int64')"
      ],
      "metadata": {
        "id": "BVzg1fa_ULZH"
      },
      "execution_count": 55,
      "outputs": []
    },
    {
      "cell_type": "code",
      "source": [
        "from scipy.stats import boxcox\n",
        "from sklearn.preprocessing import MinMaxScaler\n",
        "\n",
        "\n",
        "df['Income suavizado'] = round(df['Income'].rolling(window=3, center=True).mean(), 4)\n",
        "df['Income suavizado'].fillna(df['Income suavizado'].mean(), inplace=True)\n",
        "\n",
        "df['Commute Distance Num'] = df['Commute Distance Num'].astype('category').cat.codes\n",
        "df['Income Log'] = round(np.log(df['Income'] + 1), 6)\n",
        "minimo = df['Income Log'].min()\n",
        "maximo = df['Income Log'].max()\n",
        "df['Income Normal Log'] = (df['Income Log'] - minimo) / (maximo - minimo)\n",
        "df['Income Boxcox'], _ = boxcox(df['Income'])\n",
        "df['Age Log'] = round(np.log(df['Age'] + 1), 4)\n",
        "df['Age Children'] = df['Age'] * df['Children']\n",
        "df['Cars Distance'] = df['Cars'] * df['Commute Distance Num']"
      ],
      "metadata": {
        "id": "PFXqj1LAU-aG"
      },
      "execution_count": 56,
      "outputs": []
    },
    {
      "cell_type": "code",
      "source": [
        "df.info()"
      ],
      "metadata": {
        "colab": {
          "base_uri": "https://localhost:8080/"
        },
        "id": "9_ZtBXNuZh0r",
        "outputId": "792d09da-6222-435b-c97b-fa22203bbc32"
      },
      "execution_count": 57,
      "outputs": [
        {
          "output_type": "stream",
          "name": "stdout",
          "text": [
            "<class 'pandas.core.frame.DataFrame'>\n",
            "RangeIndex: 1000 entries, 0 to 999\n",
            "Data columns (total 20 columns):\n",
            " #   Column                Non-Null Count  Dtype   \n",
            "---  ------                --------------  -----   \n",
            " 0   Marital Status        1000 non-null   category\n",
            " 1   Gender                1000 non-null   category\n",
            " 2   Income                1000 non-null   float64 \n",
            " 3   Children              1000 non-null   float64 \n",
            " 4   Education             1000 non-null   category\n",
            " 5   Occupation            1000 non-null   category\n",
            " 6   Home Owner            1000 non-null   category\n",
            " 7   Cars                  1000 non-null   float64 \n",
            " 8   Commute Distance      1000 non-null   category\n",
            " 9   Region                1000 non-null   category\n",
            " 10  Age                   1000 non-null   float64 \n",
            " 11  Purchased Bike        1000 non-null   category\n",
            " 12  Commute Distance Num  1000 non-null   int8    \n",
            " 13  Income suavizado      1000 non-null   float64 \n",
            " 14  Income Log            1000 non-null   float64 \n",
            " 15  Income Normal Log     1000 non-null   float64 \n",
            " 16  Income Boxcox         1000 non-null   float64 \n",
            " 17  Age Log               1000 non-null   float64 \n",
            " 18  Age Children          1000 non-null   float64 \n",
            " 19  Cars Distance         1000 non-null   float64 \n",
            "dtypes: category(8), float64(11), int8(1)\n",
            "memory usage: 96.1 KB\n"
          ]
        }
      ]
    },
    {
      "cell_type": "code",
      "source": [
        "#separamos las variables numericas de las no numericas\n",
        "numeric_cols = df.select_dtypes(include='number').columns\n",
        "categoric_cols = df.select_dtypes(include='category').columns"
      ],
      "metadata": {
        "id": "ExtQvlSzW5gs"
      },
      "execution_count": 58,
      "outputs": []
    },
    {
      "cell_type": "code",
      "source": [
        "categoric_cols.to_list()"
      ],
      "metadata": {
        "colab": {
          "base_uri": "https://localhost:8080/"
        },
        "id": "3N2zb_-TcFdF",
        "outputId": "56bbcc41-334f-4604-ac3c-0d5cf2f027bf"
      },
      "execution_count": 59,
      "outputs": [
        {
          "output_type": "execute_result",
          "data": {
            "text/plain": [
              "['Marital Status',\n",
              " 'Gender',\n",
              " 'Education',\n",
              " 'Occupation',\n",
              " 'Home Owner',\n",
              " 'Commute Distance',\n",
              " 'Region',\n",
              " 'Purchased Bike']"
            ]
          },
          "metadata": {},
          "execution_count": 59
        }
      ]
    },
    {
      "cell_type": "code",
      "source": [
        "categorical=pd.get_dummies(df[categoric_cols], columns=categoric_cols, drop_first=True)\n",
        "categorical.head()"
      ],
      "metadata": {
        "colab": {
          "base_uri": "https://localhost:8080/",
          "height": 305
        },
        "id": "jzeiOgrDU--g",
        "outputId": "69b6ad20-6ce3-43d8-b979-cbebf9eff18e"
      },
      "execution_count": 60,
      "outputs": [
        {
          "output_type": "execute_result",
          "data": {
            "text/plain": [
              "   Marital Status_Single  Gender_Male  Education_Graduate Degree  \\\n",
              "0                      0            0                          0   \n",
              "1                      0            1                          0   \n",
              "2                      0            1                          0   \n",
              "3                      1            1                          0   \n",
              "4                      1            1                          0   \n",
              "\n",
              "   Education_High School  Education_Partial College  \\\n",
              "0                      0                          0   \n",
              "1                      0                          1   \n",
              "2                      0                          1   \n",
              "3                      0                          0   \n",
              "4                      0                          0   \n",
              "\n",
              "   Education_Partial High School  Occupation_Management  Occupation_Manual  \\\n",
              "0                              0                      0                  0   \n",
              "1                              0                      0                  0   \n",
              "2                              0                      0                  0   \n",
              "3                              0                      0                  0   \n",
              "4                              0                      0                  0   \n",
              "\n",
              "   Occupation_Professional  Occupation_Skilled Manual  Home Owner_Yes  \\\n",
              "0                        0                          1               1   \n",
              "1                        0                          0               1   \n",
              "2                        1                          0               0   \n",
              "3                        1                          0               1   \n",
              "4                        0                          0               0   \n",
              "\n",
              "   Commute Distance_1-2 Miles  Commute Distance_10+ Miles  \\\n",
              "0                           0                           0   \n",
              "1                           0                           0   \n",
              "2                           0                           0   \n",
              "3                           0                           0   \n",
              "4                           0                           0   \n",
              "\n",
              "   Commute Distance_2-5 Miles  Commute Distance_5-10 Miles  \\\n",
              "0                           0                            0   \n",
              "1                           0                            0   \n",
              "2                           1                            0   \n",
              "3                           0                            1   \n",
              "4                           0                            0   \n",
              "\n",
              "   Region_North America  Region_Pacific  Purchased Bike_1  \n",
              "0                     0               0                 0  \n",
              "1                     0               0                 0  \n",
              "2                     0               0                 0  \n",
              "3                     0               1                 1  \n",
              "4                     0               0                 1  "
            ],
            "text/html": [
              "\n",
              "  <div id=\"df-15961275-a368-4950-b3b9-0bad0449ead0\">\n",
              "    <div class=\"colab-df-container\">\n",
              "      <div>\n",
              "<style scoped>\n",
              "    .dataframe tbody tr th:only-of-type {\n",
              "        vertical-align: middle;\n",
              "    }\n",
              "\n",
              "    .dataframe tbody tr th {\n",
              "        vertical-align: top;\n",
              "    }\n",
              "\n",
              "    .dataframe thead th {\n",
              "        text-align: right;\n",
              "    }\n",
              "</style>\n",
              "<table border=\"1\" class=\"dataframe\">\n",
              "  <thead>\n",
              "    <tr style=\"text-align: right;\">\n",
              "      <th></th>\n",
              "      <th>Marital Status_Single</th>\n",
              "      <th>Gender_Male</th>\n",
              "      <th>Education_Graduate Degree</th>\n",
              "      <th>Education_High School</th>\n",
              "      <th>Education_Partial College</th>\n",
              "      <th>Education_Partial High School</th>\n",
              "      <th>Occupation_Management</th>\n",
              "      <th>Occupation_Manual</th>\n",
              "      <th>Occupation_Professional</th>\n",
              "      <th>Occupation_Skilled Manual</th>\n",
              "      <th>Home Owner_Yes</th>\n",
              "      <th>Commute Distance_1-2 Miles</th>\n",
              "      <th>Commute Distance_10+ Miles</th>\n",
              "      <th>Commute Distance_2-5 Miles</th>\n",
              "      <th>Commute Distance_5-10 Miles</th>\n",
              "      <th>Region_North America</th>\n",
              "      <th>Region_Pacific</th>\n",
              "      <th>Purchased Bike_1</th>\n",
              "    </tr>\n",
              "  </thead>\n",
              "  <tbody>\n",
              "    <tr>\n",
              "      <th>0</th>\n",
              "      <td>0</td>\n",
              "      <td>0</td>\n",
              "      <td>0</td>\n",
              "      <td>0</td>\n",
              "      <td>0</td>\n",
              "      <td>0</td>\n",
              "      <td>0</td>\n",
              "      <td>0</td>\n",
              "      <td>0</td>\n",
              "      <td>1</td>\n",
              "      <td>1</td>\n",
              "      <td>0</td>\n",
              "      <td>0</td>\n",
              "      <td>0</td>\n",
              "      <td>0</td>\n",
              "      <td>0</td>\n",
              "      <td>0</td>\n",
              "      <td>0</td>\n",
              "    </tr>\n",
              "    <tr>\n",
              "      <th>1</th>\n",
              "      <td>0</td>\n",
              "      <td>1</td>\n",
              "      <td>0</td>\n",
              "      <td>0</td>\n",
              "      <td>1</td>\n",
              "      <td>0</td>\n",
              "      <td>0</td>\n",
              "      <td>0</td>\n",
              "      <td>0</td>\n",
              "      <td>0</td>\n",
              "      <td>1</td>\n",
              "      <td>0</td>\n",
              "      <td>0</td>\n",
              "      <td>0</td>\n",
              "      <td>0</td>\n",
              "      <td>0</td>\n",
              "      <td>0</td>\n",
              "      <td>0</td>\n",
              "    </tr>\n",
              "    <tr>\n",
              "      <th>2</th>\n",
              "      <td>0</td>\n",
              "      <td>1</td>\n",
              "      <td>0</td>\n",
              "      <td>0</td>\n",
              "      <td>1</td>\n",
              "      <td>0</td>\n",
              "      <td>0</td>\n",
              "      <td>0</td>\n",
              "      <td>1</td>\n",
              "      <td>0</td>\n",
              "      <td>0</td>\n",
              "      <td>0</td>\n",
              "      <td>0</td>\n",
              "      <td>1</td>\n",
              "      <td>0</td>\n",
              "      <td>0</td>\n",
              "      <td>0</td>\n",
              "      <td>0</td>\n",
              "    </tr>\n",
              "    <tr>\n",
              "      <th>3</th>\n",
              "      <td>1</td>\n",
              "      <td>1</td>\n",
              "      <td>0</td>\n",
              "      <td>0</td>\n",
              "      <td>0</td>\n",
              "      <td>0</td>\n",
              "      <td>0</td>\n",
              "      <td>0</td>\n",
              "      <td>1</td>\n",
              "      <td>0</td>\n",
              "      <td>1</td>\n",
              "      <td>0</td>\n",
              "      <td>0</td>\n",
              "      <td>0</td>\n",
              "      <td>1</td>\n",
              "      <td>0</td>\n",
              "      <td>1</td>\n",
              "      <td>1</td>\n",
              "    </tr>\n",
              "    <tr>\n",
              "      <th>4</th>\n",
              "      <td>1</td>\n",
              "      <td>1</td>\n",
              "      <td>0</td>\n",
              "      <td>0</td>\n",
              "      <td>0</td>\n",
              "      <td>0</td>\n",
              "      <td>0</td>\n",
              "      <td>0</td>\n",
              "      <td>0</td>\n",
              "      <td>0</td>\n",
              "      <td>0</td>\n",
              "      <td>0</td>\n",
              "      <td>0</td>\n",
              "      <td>0</td>\n",
              "      <td>0</td>\n",
              "      <td>0</td>\n",
              "      <td>0</td>\n",
              "      <td>1</td>\n",
              "    </tr>\n",
              "  </tbody>\n",
              "</table>\n",
              "</div>\n",
              "      <button class=\"colab-df-convert\" onclick=\"convertToInteractive('df-15961275-a368-4950-b3b9-0bad0449ead0')\"\n",
              "              title=\"Convert this dataframe to an interactive table.\"\n",
              "              style=\"display:none;\">\n",
              "        \n",
              "  <svg xmlns=\"http://www.w3.org/2000/svg\" height=\"24px\"viewBox=\"0 0 24 24\"\n",
              "       width=\"24px\">\n",
              "    <path d=\"M0 0h24v24H0V0z\" fill=\"none\"/>\n",
              "    <path d=\"M18.56 5.44l.94 2.06.94-2.06 2.06-.94-2.06-.94-.94-2.06-.94 2.06-2.06.94zm-11 1L8.5 8.5l.94-2.06 2.06-.94-2.06-.94L8.5 2.5l-.94 2.06-2.06.94zm10 10l.94 2.06.94-2.06 2.06-.94-2.06-.94-.94-2.06-.94 2.06-2.06.94z\"/><path d=\"M17.41 7.96l-1.37-1.37c-.4-.4-.92-.59-1.43-.59-.52 0-1.04.2-1.43.59L10.3 9.45l-7.72 7.72c-.78.78-.78 2.05 0 2.83L4 21.41c.39.39.9.59 1.41.59.51 0 1.02-.2 1.41-.59l7.78-7.78 2.81-2.81c.8-.78.8-2.07 0-2.86zM5.41 20L4 18.59l7.72-7.72 1.47 1.35L5.41 20z\"/>\n",
              "  </svg>\n",
              "      </button>\n",
              "      \n",
              "  <style>\n",
              "    .colab-df-container {\n",
              "      display:flex;\n",
              "      flex-wrap:wrap;\n",
              "      gap: 12px;\n",
              "    }\n",
              "\n",
              "    .colab-df-convert {\n",
              "      background-color: #E8F0FE;\n",
              "      border: none;\n",
              "      border-radius: 50%;\n",
              "      cursor: pointer;\n",
              "      display: none;\n",
              "      fill: #1967D2;\n",
              "      height: 32px;\n",
              "      padding: 0 0 0 0;\n",
              "      width: 32px;\n",
              "    }\n",
              "\n",
              "    .colab-df-convert:hover {\n",
              "      background-color: #E2EBFA;\n",
              "      box-shadow: 0px 1px 2px rgba(60, 64, 67, 0.3), 0px 1px 3px 1px rgba(60, 64, 67, 0.15);\n",
              "      fill: #174EA6;\n",
              "    }\n",
              "\n",
              "    [theme=dark] .colab-df-convert {\n",
              "      background-color: #3B4455;\n",
              "      fill: #D2E3FC;\n",
              "    }\n",
              "\n",
              "    [theme=dark] .colab-df-convert:hover {\n",
              "      background-color: #434B5C;\n",
              "      box-shadow: 0px 1px 3px 1px rgba(0, 0, 0, 0.15);\n",
              "      filter: drop-shadow(0px 1px 2px rgba(0, 0, 0, 0.3));\n",
              "      fill: #FFFFFF;\n",
              "    }\n",
              "  </style>\n",
              "\n",
              "      <script>\n",
              "        const buttonEl =\n",
              "          document.querySelector('#df-15961275-a368-4950-b3b9-0bad0449ead0 button.colab-df-convert');\n",
              "        buttonEl.style.display =\n",
              "          google.colab.kernel.accessAllowed ? 'block' : 'none';\n",
              "\n",
              "        async function convertToInteractive(key) {\n",
              "          const element = document.querySelector('#df-15961275-a368-4950-b3b9-0bad0449ead0');\n",
              "          const dataTable =\n",
              "            await google.colab.kernel.invokeFunction('convertToInteractive',\n",
              "                                                     [key], {});\n",
              "          if (!dataTable) return;\n",
              "\n",
              "          const docLinkHtml = 'Like what you see? Visit the ' +\n",
              "            '<a target=\"_blank\" href=https://colab.research.google.com/notebooks/data_table.ipynb>data table notebook</a>'\n",
              "            + ' to learn more about interactive tables.';\n",
              "          element.innerHTML = '';\n",
              "          dataTable['output_type'] = 'display_data';\n",
              "          await google.colab.output.renderOutput(dataTable, element);\n",
              "          const docLink = document.createElement('div');\n",
              "          docLink.innerHTML = docLinkHtml;\n",
              "          element.appendChild(docLink);\n",
              "        }\n",
              "      </script>\n",
              "    </div>\n",
              "  </div>\n",
              "  "
            ]
          },
          "metadata": {},
          "execution_count": 60
        }
      ]
    },
    {
      "cell_type": "code",
      "source": [
        "categorical.columns = [\n",
        "    'Marital Status',\n",
        "    'Gender',\n",
        "    'Education_1',\n",
        "    'Education_2',\n",
        "    'Education_3',\n",
        "    'Education_4',\n",
        "    'Occupation_1',\n",
        "    'Occupation_2',\n",
        "    'Occupation_3',\n",
        "    'Occupation_4',\n",
        "    'Home Owner',\n",
        "    'Commute Distance_1',\n",
        "    'Commute Distance_2',\n",
        "    'Commute Distance_3',\n",
        "    'Commute Distance_4',\n",
        "    'Region_1',\n",
        "    'Region_2',\n",
        "    'Target'\n",
        "]"
      ],
      "metadata": {
        "id": "T_iOdYEybNch"
      },
      "execution_count": 61,
      "outputs": []
    },
    {
      "cell_type": "code",
      "source": [
        "processed_data = pd.merge(df, categorical, left_index=True, right_index=True)\n",
        "processed_data.info()"
      ],
      "metadata": {
        "colab": {
          "base_uri": "https://localhost:8080/"
        },
        "id": "GoTcET37eFAd",
        "outputId": "8080ff54-4483-461c-87f0-18cbab3974dd"
      },
      "execution_count": 62,
      "outputs": [
        {
          "output_type": "stream",
          "name": "stdout",
          "text": [
            "<class 'pandas.core.frame.DataFrame'>\n",
            "RangeIndex: 1000 entries, 0 to 999\n",
            "Data columns (total 38 columns):\n",
            " #   Column                Non-Null Count  Dtype   \n",
            "---  ------                --------------  -----   \n",
            " 0   Marital Status_x      1000 non-null   category\n",
            " 1   Gender_x              1000 non-null   category\n",
            " 2   Income                1000 non-null   float64 \n",
            " 3   Children              1000 non-null   float64 \n",
            " 4   Education             1000 non-null   category\n",
            " 5   Occupation            1000 non-null   category\n",
            " 6   Home Owner_x          1000 non-null   category\n",
            " 7   Cars                  1000 non-null   float64 \n",
            " 8   Commute Distance      1000 non-null   category\n",
            " 9   Region                1000 non-null   category\n",
            " 10  Age                   1000 non-null   float64 \n",
            " 11  Purchased Bike        1000 non-null   category\n",
            " 12  Commute Distance Num  1000 non-null   int8    \n",
            " 13  Income suavizado      1000 non-null   float64 \n",
            " 14  Income Log            1000 non-null   float64 \n",
            " 15  Income Normal Log     1000 non-null   float64 \n",
            " 16  Income Boxcox         1000 non-null   float64 \n",
            " 17  Age Log               1000 non-null   float64 \n",
            " 18  Age Children          1000 non-null   float64 \n",
            " 19  Cars Distance         1000 non-null   float64 \n",
            " 20  Marital Status_y      1000 non-null   uint8   \n",
            " 21  Gender_y              1000 non-null   uint8   \n",
            " 22  Education_1           1000 non-null   uint8   \n",
            " 23  Education_2           1000 non-null   uint8   \n",
            " 24  Education_3           1000 non-null   uint8   \n",
            " 25  Education_4           1000 non-null   uint8   \n",
            " 26  Occupation_1          1000 non-null   uint8   \n",
            " 27  Occupation_2          1000 non-null   uint8   \n",
            " 28  Occupation_3          1000 non-null   uint8   \n",
            " 29  Occupation_4          1000 non-null   uint8   \n",
            " 30  Home Owner_y          1000 non-null   uint8   \n",
            " 31  Commute Distance_1    1000 non-null   uint8   \n",
            " 32  Commute Distance_2    1000 non-null   uint8   \n",
            " 33  Commute Distance_3    1000 non-null   uint8   \n",
            " 34  Commute Distance_4    1000 non-null   uint8   \n",
            " 35  Region_1              1000 non-null   uint8   \n",
            " 36  Region_2              1000 non-null   uint8   \n",
            " 37  Target                1000 non-null   uint8   \n",
            "dtypes: category(8), float64(11), int8(1), uint8(18)\n",
            "memory usage: 113.7 KB\n"
          ]
        }
      ]
    },
    {
      "cell_type": "code",
      "source": [
        "processed_data.to_csv('processed_data.csv',sep=';', index=False)"
      ],
      "metadata": {
        "id": "6wqBbIwjfFcS"
      },
      "execution_count": 63,
      "outputs": []
    },
    {
      "cell_type": "markdown",
      "source": [
        "# Requerimientos"
      ],
      "metadata": {
        "id": "LrDhOr9ZySge"
      }
    },
    {
      "cell_type": "markdown",
      "source": [
        "1. ¿Cuánto es el promedio de ingresos de acuerdo con si la bicicleta fue comprada o no por el cliente?"
      ],
      "metadata": {
        "id": "_6HUkXRSxHdi"
      }
    },
    {
      "cell_type": "code",
      "source": [
        "sns.boxplot(x='Purchased Bike', y='Income', data=df)"
      ],
      "metadata": {
        "colab": {
          "base_uri": "https://localhost:8080/",
          "height": 466
        },
        "id": "iOAr_nPc9O2F",
        "outputId": "a9ef4afd-98d6-42b0-b515-d43a00547424"
      },
      "execution_count": 88,
      "outputs": [
        {
          "output_type": "execute_result",
          "data": {
            "text/plain": [
              "<Axes: xlabel='Purchased Bike', ylabel='Income'>"
            ]
          },
          "metadata": {},
          "execution_count": 88
        },
        {
          "output_type": "display_data",
          "data": {
            "text/plain": [
              "<Figure size 640x480 with 1 Axes>"
            ],
            "image/png": "[encoded data removed]"
          },
          "metadata": {}
        }
      ]
    },
    {
      "cell_type": "code",
      "source": [
        "income_compra = df.groupby('Purchased Bike')\n",
        "income_compra['Income'].mean()"
      ],
      "metadata": {
        "colab": {
          "base_uri": "https://localhost:8080/"
        },
        "id": "8zhhbSRVv7H2",
        "outputId": "e975451d-e655-4d41-eade-a0c13a51fc69"
      },
      "execution_count": 89,
      "outputs": [
        {
          "output_type": "execute_result",
          "data": {
            "text/plain": [
              "Purchased Bike\n",
              "0    54874.759152\n",
              "1    57817.047817\n",
              "Name: Income, dtype: float64"
            ]
          },
          "metadata": {},
          "execution_count": 89
        }
      ]
    },
    {
      "cell_type": "markdown",
      "source": [
        "2. ¿Cuánto es el promedio de ingresos según el estado civil del cliente?"
      ],
      "metadata": {
        "id": "M0BoAoKixSFD"
      }
    },
    {
      "cell_type": "code",
      "source": [
        "sns.boxplot(x='Marital Status', y='Income', data=df)"
      ],
      "metadata": {
        "colab": {
          "base_uri": "https://localhost:8080/",
          "height": 466
        },
        "id": "YdtEqfIi_l2z",
        "outputId": "25f7fa2f-d8dc-43ad-c060-eb11ad8ea804"
      },
      "execution_count": 90,
      "outputs": [
        {
          "output_type": "execute_result",
          "data": {
            "text/plain": [
              "<Axes: xlabel='Marital Status', ylabel='Income'>"
            ]
          },
          "metadata": {},
          "execution_count": 90
        },
        {
          "output_type": "display_data",
          "data": {
            "text/plain": [
              "<Figure size 640x480 with 1 Axes>"
            ],
            "image/png": "[encoded data removed]"
          },
          "metadata": {}
        }
      ]
    },
    {
      "cell_type": "code",
      "source": [
        "df_marital_status = df.groupby('Marital Status')\n",
        "df_marital_status['Income'].mean()"
      ],
      "metadata": {
        "colab": {
          "base_uri": "https://localhost:8080/"
        },
        "id": "Iu6y5M6NxmWn",
        "outputId": "56bd93b3-5f8f-46b3-d068-1158f564ad92"
      },
      "execution_count": 91,
      "outputs": [
        {
          "output_type": "execute_result",
          "data": {
            "text/plain": [
              "Marital Status\n",
              "Married    58653.136531\n",
              "Single     53493.449782\n",
              "Name: Income, dtype: float64"
            ]
          },
          "metadata": {},
          "execution_count": 91
        }
      ]
    },
    {
      "cell_type": "markdown",
      "source": [
        "3. Crear una nueva variable llamado Con_hijos, dónde Si: Children > 0, No: Children=0, para los clientes que si tienen hijos ¿Cuánto es el promedio de hijos según el nivel educativo del cliente?"
      ],
      "metadata": {
        "id": "mVNzz1ALxcR0"
      }
    },
    {
      "cell_type": "code",
      "source": [
        "df['Con_hijos'] = df['Children'].apply(lambda x: 'Si' if x > 0 else 'No' if x == 0 else np.nan)"
      ],
      "metadata": {
        "id": "LzP1evmFBB74"
      },
      "execution_count": 92,
      "outputs": []
    },
    {
      "cell_type": "code",
      "source": [
        "df[['Children', 'Con_hijos']].head(10)"
      ],
      "metadata": {
        "colab": {
          "base_uri": "https://localhost:8080/",
          "height": 363
        },
        "id": "ELLjuuoPBuWp",
        "outputId": "d0ba2ad0-e47c-465d-ce5c-ee5335a95a41"
      },
      "execution_count": 93,
      "outputs": [
        {
          "output_type": "execute_result",
          "data": {
            "text/plain": [
              "   Children Con_hijos\n",
              "0       1.0        Si\n",
              "1       3.0        Si\n",
              "2       5.0        Si\n",
              "3       0.0        No\n",
              "4       0.0        No\n",
              "5       2.0        Si\n",
              "6       2.0        Si\n",
              "7       1.0        Si\n",
              "8       2.0        Si\n",
              "9       2.0        Si"
            ],
            "text/html": [
              "\n",
              "  <div id=\"df-9c130275-f230-4ffd-9b6e-f8f257410ba8\">\n",
              "    <div class=\"colab-df-container\">\n",
              "      <div>\n",
              "<style scoped>\n",
              "    .dataframe tbody tr th:only-of-type {\n",
              "        vertical-align: middle;\n",
              "    }\n",
              "\n",
              "    .dataframe tbody tr th {\n",
              "        vertical-align: top;\n",
              "    }\n",
              "\n",
              "    .dataframe thead th {\n",
              "        text-align: right;\n",
              "    }\n",
              "</style>\n",
              "<table border=\"1\" class=\"dataframe\">\n",
              "  <thead>\n",
              "    <tr style=\"text-align: right;\">\n",
              "      <th></th>\n",
              "      <th>Children</th>\n",
              "      <th>Con_hijos</th>\n",
              "    </tr>\n",
              "  </thead>\n",
              "  <tbody>\n",
              "    <tr>\n",
              "      <th>0</th>\n",
              "      <td>1.0</td>\n",
              "      <td>Si</td>\n",
              "    </tr>\n",
              "    <tr>\n",
              "      <th>1</th>\n",
              "      <td>3.0</td>\n",
              "      <td>Si</td>\n",
              "    </tr>\n",
              "    <tr>\n",
              "      <th>2</th>\n",
              "      <td>5.0</td>\n",
              "      <td>Si</td>\n",
              "    </tr>\n",
              "    <tr>\n",
              "      <th>3</th>\n",
              "      <td>0.0</td>\n",
              "      <td>No</td>\n",
              "    </tr>\n",
              "    <tr>\n",
              "      <th>4</th>\n",
              "      <td>0.0</td>\n",
              "      <td>No</td>\n",
              "    </tr>\n",
              "    <tr>\n",
              "      <th>5</th>\n",
              "      <td>2.0</td>\n",
              "      <td>Si</td>\n",
              "    </tr>\n",
              "    <tr>\n",
              "      <th>6</th>\n",
              "      <td>2.0</td>\n",
              "      <td>Si</td>\n",
              "    </tr>\n",
              "    <tr>\n",
              "      <th>7</th>\n",
              "      <td>1.0</td>\n",
              "      <td>Si</td>\n",
              "    </tr>\n",
              "    <tr>\n",
              "      <th>8</th>\n",
              "      <td>2.0</td>\n",
              "      <td>Si</td>\n",
              "    </tr>\n",
              "    <tr>\n",
              "      <th>9</th>\n",
              "      <td>2.0</td>\n",
              "      <td>Si</td>\n",
              "    </tr>\n",
              "  </tbody>\n",
              "</table>\n",
              "</div>\n",
              "      <button class=\"colab-df-convert\" onclick=\"convertToInteractive('df-9c130275-f230-4ffd-9b6e-f8f257410ba8')\"\n",
              "              title=\"Convert this dataframe to an interactive table.\"\n",
              "              style=\"display:none;\">\n",
              "        \n",
              "  <svg xmlns=\"http://www.w3.org/2000/svg\" height=\"24px\"viewBox=\"0 0 24 24\"\n",
              "       width=\"24px\">\n",
              "    <path d=\"M0 0h24v24H0V0z\" fill=\"none\"/>\n",
              "    <path d=\"M18.56 5.44l.94 2.06.94-2.06 2.06-.94-2.06-.94-.94-2.06-.94 2.06-2.06.94zm-11 1L8.5 8.5l.94-2.06 2.06-.94-2.06-.94L8.5 2.5l-.94 2.06-2.06.94zm10 10l.94 2.06.94-2.06 2.06-.94-2.06-.94-.94-2.06-.94 2.06-2.06.94z\"/><path d=\"M17.41 7.96l-1.37-1.37c-.4-.4-.92-.59-1.43-.59-.52 0-1.04.2-1.43.59L10.3 9.45l-7.72 7.72c-.78.78-.78 2.05 0 2.83L4 21.41c.39.39.9.59 1.41.59.51 0 1.02-.2 1.41-.59l7.78-7.78 2.81-2.81c.8-.78.8-2.07 0-2.86zM5.41 20L4 18.59l7.72-7.72 1.47 1.35L5.41 20z\"/>\n",
              "  </svg>\n",
              "      </button>\n",
              "      \n",
              "  <style>\n",
              "    .colab-df-container {\n",
              "      display:flex;\n",
              "      flex-wrap:wrap;\n",
              "      gap: 12px;\n",
              "    }\n",
              "\n",
              "    .colab-df-convert {\n",
              "      background-color: #E8F0FE;\n",
              "      border: none;\n",
              "      border-radius: 50%;\n",
              "      cursor: pointer;\n",
              "      display: none;\n",
              "      fill: #1967D2;\n",
              "      height: 32px;\n",
              "      padding: 0 0 0 0;\n",
              "      width: 32px;\n",
              "    }\n",
              "\n",
              "    .colab-df-convert:hover {\n",
              "      background-color: #E2EBFA;\n",
              "      box-shadow: 0px 1px 2px rgba(60, 64, 67, 0.3), 0px 1px 3px 1px rgba(60, 64, 67, 0.15);\n",
              "      fill: #174EA6;\n",
              "    }\n",
              "\n",
              "    [theme=dark] .colab-df-convert {\n",
              "      background-color: #3B4455;\n",
              "      fill: #D2E3FC;\n",
              "    }\n",
              "\n",
              "    [theme=dark] .colab-df-convert:hover {\n",
              "      background-color: #434B5C;\n",
              "      box-shadow: 0px 1px 3px 1px rgba(0, 0, 0, 0.15);\n",
              "      filter: drop-shadow(0px 1px 2px rgba(0, 0, 0, 0.3));\n",
              "      fill: #FFFFFF;\n",
              "    }\n",
              "  </style>\n",
              "\n",
              "      <script>\n",
              "        const buttonEl =\n",
              "          document.querySelector('#df-9c130275-f230-4ffd-9b6e-f8f257410ba8 button.colab-df-convert');\n",
              "        buttonEl.style.display =\n",
              "          google.colab.kernel.accessAllowed ? 'block' : 'none';\n",
              "\n",
              "        async function convertToInteractive(key) {\n",
              "          const element = document.querySelector('#df-9c130275-f230-4ffd-9b6e-f8f257410ba8');\n",
              "          const dataTable =\n",
              "            await google.colab.kernel.invokeFunction('convertToInteractive',\n",
              "                                                     [key], {});\n",
              "          if (!dataTable) return;\n",
              "\n",
              "          const docLinkHtml = 'Like what you see? Visit the ' +\n",
              "            '<a target=\"_blank\" href=https://colab.research.google.com/notebooks/data_table.ipynb>data table notebook</a>'\n",
              "            + ' to learn more about interactive tables.';\n",
              "          element.innerHTML = '';\n",
              "          dataTable['output_type'] = 'display_data';\n",
              "          await google.colab.output.renderOutput(dataTable, element);\n",
              "          const docLink = document.createElement('div');\n",
              "          docLink.innerHTML = docLinkHtml;\n",
              "          element.appendChild(docLink);\n",
              "        }\n",
              "      </script>\n",
              "    </div>\n",
              "  </div>\n",
              "  "
            ]
          },
          "metadata": {},
          "execution_count": 93
        }
      ]
    },
    {
      "cell_type": "code",
      "source": [
        "df_con_hijos = df[df['Con_hijos'] == 'Si']\n",
        "sns.boxplot(x='Education', y='Children', data=df_con_hijos)"
      ],
      "metadata": {
        "colab": {
          "base_uri": "https://localhost:8080/",
          "height": 466
        },
        "id": "ui6MOyKGC7nV",
        "outputId": "d9866274-d285-4cc4-963c-f795cd9bc941"
      },
      "execution_count": 94,
      "outputs": [
        {
          "output_type": "execute_result",
          "data": {
            "text/plain": [
              "<Axes: xlabel='Education', ylabel='Children'>"
            ]
          },
          "metadata": {},
          "execution_count": 94
        },
        {
          "output_type": "display_data",
          "data": {
            "text/plain": [
              "<Figure size 640x480 with 1 Axes>"
            ],
            "image/png": "[encoded data removed]"
          },
          "metadata": {}
        }
      ]
    },
    {
      "cell_type": "code",
      "source": [
        "df_nivel_edu = df_con_hijos.groupby('Education')\n",
        "df_nivel_edu['Children'].mean()"
      ],
      "metadata": {
        "colab": {
          "base_uri": "https://localhost:8080/"
        },
        "id": "iB6FHuiaBqpn",
        "outputId": "00ab7326-9802-4ca4-f8b9-c158c9006a6d"
      },
      "execution_count": 95,
      "outputs": [
        {
          "output_type": "execute_result",
          "data": {
            "text/plain": [
              "Education\n",
              "Bachelors              2.538462\n",
              "Graduate Degree        2.742188\n",
              "High School            2.763780\n",
              "Partial College        2.567708\n",
              "Partial High School    2.711111\n",
              "Name: Children, dtype: float64"
            ]
          },
          "metadata": {},
          "execution_count": 95
        }
      ]
    },
    {
      "cell_type": "markdown",
      "source": [
        "4. Crear una nueva variable llamado Con_vehiculo, dónde Si: Cars>0, No: Cars=0, para los clientes que si tienen vehículo ¿Cuánto es el promedio de vehículos según la ocupación del cliente?"
      ],
      "metadata": {
        "id": "zOB8POWrxgkW"
      }
    },
    {
      "cell_type": "code",
      "source": [
        "df['Con_vehiculo'] = df['Cars'].apply(lambda x: 'Si' if x > 0 else 'No' if x == 0 else np.nan)\n",
        "df[['Cars', 'Con_vehiculo']].head(10)"
      ],
      "metadata": {
        "colab": {
          "base_uri": "https://localhost:8080/",
          "height": 363
        },
        "id": "EHbcdBj8xnBi",
        "outputId": "64fc4152-021e-4fbf-c750-e01055a8b7f6"
      },
      "execution_count": 96,
      "outputs": [
        {
          "output_type": "execute_result",
          "data": {
            "text/plain": [
              "   Cars Con_vehiculo\n",
              "0   0.0           No\n",
              "1   1.0           Si\n",
              "2   2.0           Si\n",
              "3   1.0           Si\n",
              "4   0.0           No\n",
              "5   0.0           No\n",
              "6   4.0           Si\n",
              "7   0.0           No\n",
              "8   2.0           Si\n",
              "9   1.0           Si"
            ],
            "text/html": [
              "\n",
              "  <div id=\"df-332c3da3-62a9-47c6-9f12-f38ccb2d0b1e\">\n",
              "    <div class=\"colab-df-container\">\n",
              "      <div>\n",
              "<style scoped>\n",
              "    .dataframe tbody tr th:only-of-type {\n",
              "        vertical-align: middle;\n",
              "    }\n",
              "\n",
              "    .dataframe tbody tr th {\n",
              "        vertical-align: top;\n",
              "    }\n",
              "\n",
              "    .dataframe thead th {\n",
              "        text-align: right;\n",
              "    }\n",
              "</style>\n",
              "<table border=\"1\" class=\"dataframe\">\n",
              "  <thead>\n",
              "    <tr style=\"text-align: right;\">\n",
              "      <th></th>\n",
              "      <th>Cars</th>\n",
              "      <th>Con_vehiculo</th>\n",
              "    </tr>\n",
              "  </thead>\n",
              "  <tbody>\n",
              "    <tr>\n",
              "      <th>0</th>\n",
              "      <td>0.0</td>\n",
              "      <td>No</td>\n",
              "    </tr>\n",
              "    <tr>\n",
              "      <th>1</th>\n",
              "      <td>1.0</td>\n",
              "      <td>Si</td>\n",
              "    </tr>\n",
              "    <tr>\n",
              "      <th>2</th>\n",
              "      <td>2.0</td>\n",
              "      <td>Si</td>\n",
              "    </tr>\n",
              "    <tr>\n",
              "      <th>3</th>\n",
              "      <td>1.0</td>\n",
              "      <td>Si</td>\n",
              "    </tr>\n",
              "    <tr>\n",
              "      <th>4</th>\n",
              "      <td>0.0</td>\n",
              "      <td>No</td>\n",
              "    </tr>\n",
              "    <tr>\n",
              "      <th>5</th>\n",
              "      <td>0.0</td>\n",
              "      <td>No</td>\n",
              "    </tr>\n",
              "    <tr>\n",
              "      <th>6</th>\n",
              "      <td>4.0</td>\n",
              "      <td>Si</td>\n",
              "    </tr>\n",
              "    <tr>\n",
              "      <th>7</th>\n",
              "      <td>0.0</td>\n",
              "      <td>No</td>\n",
              "    </tr>\n",
              "    <tr>\n",
              "      <th>8</th>\n",
              "      <td>2.0</td>\n",
              "      <td>Si</td>\n",
              "    </tr>\n",
              "    <tr>\n",
              "      <th>9</th>\n",
              "      <td>1.0</td>\n",
              "      <td>Si</td>\n",
              "    </tr>\n",
              "  </tbody>\n",
              "</table>\n",
              "</div>\n",
              "      <button class=\"colab-df-convert\" onclick=\"convertToInteractive('df-332c3da3-62a9-47c6-9f12-f38ccb2d0b1e')\"\n",
              "              title=\"Convert this dataframe to an interactive table.\"\n",
              "              style=\"display:none;\">\n",
              "        \n",
              "  <svg xmlns=\"http://www.w3.org/2000/svg\" height=\"24px\"viewBox=\"0 0 24 24\"\n",
              "       width=\"24px\">\n",
              "    <path d=\"M0 0h24v24H0V0z\" fill=\"none\"/>\n",
              "    <path d=\"M18.56 5.44l.94 2.06.94-2.06 2.06-.94-2.06-.94-.94-2.06-.94 2.06-2.06.94zm-11 1L8.5 8.5l.94-2.06 2.06-.94-2.06-.94L8.5 2.5l-.94 2.06-2.06.94zm10 10l.94 2.06.94-2.06 2.06-.94-2.06-.94-.94-2.06-.94 2.06-2.06.94z\"/><path d=\"M17.41 7.96l-1.37-1.37c-.4-.4-.92-.59-1.43-.59-.52 0-1.04.2-1.43.59L10.3 9.45l-7.72 7.72c-.78.78-.78 2.05 0 2.83L4 21.41c.39.39.9.59 1.41.59.51 0 1.02-.2 1.41-.59l7.78-7.78 2.81-2.81c.8-.78.8-2.07 0-2.86zM5.41 20L4 18.59l7.72-7.72 1.47 1.35L5.41 20z\"/>\n",
              "  </svg>\n",
              "      </button>\n",
              "      \n",
              "  <style>\n",
              "    .colab-df-container {\n",
              "      display:flex;\n",
              "      flex-wrap:wrap;\n",
              "      gap: 12px;\n",
              "    }\n",
              "\n",
              "    .colab-df-convert {\n",
              "      background-color: #E8F0FE;\n",
              "      border: none;\n",
              "      border-radius: 50%;\n",
              "      cursor: pointer;\n",
              "      display: none;\n",
              "      fill: #1967D2;\n",
              "      height: 32px;\n",
              "      padding: 0 0 0 0;\n",
              "      width: 32px;\n",
              "    }\n",
              "\n",
              "    .colab-df-convert:hover {\n",
              "      background-color: #E2EBFA;\n",
              "      box-shadow: 0px 1px 2px rgba(60, 64, 67, 0.3), 0px 1px 3px 1px rgba(60, 64, 67, 0.15);\n",
              "      fill: #174EA6;\n",
              "    }\n",
              "\n",
              "    [theme=dark] .colab-df-convert {\n",
              "      background-color: #3B4455;\n",
              "      fill: #D2E3FC;\n",
              "    }\n",
              "\n",
              "    [theme=dark] .colab-df-convert:hover {\n",
              "      background-color: #434B5C;\n",
              "      box-shadow: 0px 1px 3px 1px rgba(0, 0, 0, 0.15);\n",
              "      filter: drop-shadow(0px 1px 2px rgba(0, 0, 0, 0.3));\n",
              "      fill: #FFFFFF;\n",
              "    }\n",
              "  </style>\n",
              "\n",
              "      <script>\n",
              "        const buttonEl =\n",
              "          document.querySelector('#df-332c3da3-62a9-47c6-9f12-f38ccb2d0b1e button.colab-df-convert');\n",
              "        buttonEl.style.display =\n",
              "          google.colab.kernel.accessAllowed ? 'block' : 'none';\n",
              "\n",
              "        async function convertToInteractive(key) {\n",
              "          const element = document.querySelector('#df-332c3da3-62a9-47c6-9f12-f38ccb2d0b1e');\n",
              "          const dataTable =\n",
              "            await google.colab.kernel.invokeFunction('convertToInteractive',\n",
              "                                                     [key], {});\n",
              "          if (!dataTable) return;\n",
              "\n",
              "          const docLinkHtml = 'Like what you see? Visit the ' +\n",
              "            '<a target=\"_blank\" href=https://colab.research.google.com/notebooks/data_table.ipynb>data table notebook</a>'\n",
              "            + ' to learn more about interactive tables.';\n",
              "          element.innerHTML = '';\n",
              "          dataTable['output_type'] = 'display_data';\n",
              "          await google.colab.output.renderOutput(dataTable, element);\n",
              "          const docLink = document.createElement('div');\n",
              "          docLink.innerHTML = docLinkHtml;\n",
              "          element.appendChild(docLink);\n",
              "        }\n",
              "      </script>\n",
              "    </div>\n",
              "  </div>\n",
              "  "
            ]
          },
          "metadata": {},
          "execution_count": 96
        }
      ]
    },
    {
      "cell_type": "code",
      "source": [
        "df_con_vehiculo = df[df['Con_vehiculo'] == 'Si']\n",
        "sns.boxplot(x='Occupation', y='Cars', data=df_con_vehiculo)"
      ],
      "metadata": {
        "colab": {
          "base_uri": "https://localhost:8080/",
          "height": 466
        },
        "id": "Lx6sIZorFi5s",
        "outputId": "144f8df4-71db-4159-dd16-412d9a3f9911"
      },
      "execution_count": 97,
      "outputs": [
        {
          "output_type": "execute_result",
          "data": {
            "text/plain": [
              "<Axes: xlabel='Occupation', ylabel='Cars'>"
            ]
          },
          "metadata": {},
          "execution_count": 97
        },
        {
          "output_type": "display_data",
          "data": {
            "text/plain": [
              "<Figure size 640x480 with 1 Axes>"
            ],
            "image/png": "[encoded data removed]"
          },
          "metadata": {}
        }
      ]
    },
    {
      "cell_type": "code",
      "source": [
        "df_ocupation = df_con_vehiculo.groupby('Occupation')\n",
        "df_ocupation['Cars'].mean()"
      ],
      "metadata": {
        "colab": {
          "base_uri": "https://localhost:8080/"
        },
        "id": "zaTw9uTPFMh5",
        "outputId": "e635bf34-44f1-4320-e960-01d7a031478f"
      },
      "execution_count": 98,
      "outputs": [
        {
          "output_type": "execute_result",
          "data": {
            "text/plain": [
              "Occupation\n",
              "Clerical          1.480000\n",
              "Management        2.345912\n",
              "Manual            1.441860\n",
              "Professional      2.126126\n",
              "Skilled Manual    1.712821\n",
              "Name: Cars, dtype: float64"
            ]
          },
          "metadata": {},
          "execution_count": 98
        }
      ]
    },
    {
      "cell_type": "markdown",
      "source": [
        "5. ¿Cuánto es el promedio de edad de acuerdo con si el cliente es o no propietario de una vivienda?"
      ],
      "metadata": {
        "id": "PXUGL4FLxkX4"
      }
    },
    {
      "cell_type": "code",
      "source": [
        "sns.boxplot(x=df['Home Owner'], y=df['Age'], data=df)"
      ],
      "metadata": {
        "colab": {
          "base_uri": "https://localhost:8080/",
          "height": 466
        },
        "id": "Jo7IyH8tIwYu",
        "outputId": "323e0fa8-fdb6-479d-f12a-7bc6f5313596"
      },
      "execution_count": 99,
      "outputs": [
        {
          "output_type": "execute_result",
          "data": {
            "text/plain": [
              "<Axes: xlabel='Home Owner', ylabel='Age'>"
            ]
          },
          "metadata": {},
          "execution_count": 99
        },
        {
          "output_type": "display_data",
          "data": {
            "text/plain": [
              "<Figure size 640x480 with 1 Axes>"
            ],
            "image/png": "[encoded data removed]"
          },
          "metadata": {}
        }
      ]
    },
    {
      "cell_type": "code",
      "source": [
        "df_home = df.groupby('Home Owner')\n",
        "df_home['Age'].mean()"
      ],
      "metadata": {
        "colab": {
          "base_uri": "https://localhost:8080/"
        },
        "id": "xGzmm3kKKYNu",
        "outputId": "e48a92df-d7db-4152-89d9-485ae60fd31e"
      },
      "execution_count": 100,
      "outputs": [
        {
          "output_type": "execute_result",
          "data": {
            "text/plain": [
              "Home Owner\n",
              "No     42.308917\n",
              "Yes    45.024781\n",
              "Name: Age, dtype: float64"
            ]
          },
          "metadata": {},
          "execution_count": 100
        }
      ]
    },
    {
      "cell_type": "markdown",
      "source": [
        "# VERSIONES"
      ],
      "metadata": {
        "id": "C78HLAEtJIP-"
      }
    },
    {
      "cell_type": "markdown",
      "source": [
        "Para el modelo no se tomaron las nuevas columnas creadas para realizar los requerimientos."
      ],
      "metadata": {
        "id": "Wfjd1Lc_dsYy"
      }
    },
    {
      "cell_type": "code",
      "source": [
        "df = df.drop([\n",
        "    'Income',\n",
        "    'Income suavizado',\n",
        "    'Income Boxcox',\n",
        "    'Income Normal Log',\n",
        "    'Age',\n",
        "    'Occupation_1',\n",
        "    'Occupation_2',\n",
        "    'Occupation_3',\n",
        "    'Occupation_4',\n",
        "    'Children'\n",
        "], axis=1)"
      ],
      "metadata": {
        "id": "M1JHTQ4EFX6I",
        "colab": {
          "base_uri": "https://localhost:8080/",
          "height": 380
        },
        "outputId": "474ce924-9ec3-4fa0-970a-f98f63b7672c"
      },
      "execution_count": 101,
      "outputs": [
        {
          "output_type": "error",
          "ename": "KeyError",
          "evalue": "ignored",
          "traceback": [
            "\u001b[0;31m---------------------------------------------------------------------------\u001b[0m",
            "\u001b[0;31mKeyError\u001b[0m                                  Traceback (most recent call last)",
            "\u001b[0;32m<ipython-input-101-f21a42bef0e0>\u001b[0m in \u001b[0;36m<cell line: 1>\u001b[0;34m()\u001b[0m\n\u001b[0;32m----> 1\u001b[0;31m df = df.drop([\n\u001b[0m\u001b[1;32m      2\u001b[0m     \u001b[0;34m'Income'\u001b[0m\u001b[0;34m,\u001b[0m\u001b[0;34m\u001b[0m\u001b[0;34m\u001b[0m\u001b[0m\n\u001b[1;32m      3\u001b[0m     \u001b[0;34m'Income suavizado'\u001b[0m\u001b[0;34m,\u001b[0m\u001b[0;34m\u001b[0m\u001b[0;34m\u001b[0m\u001b[0m\n\u001b[1;32m      4\u001b[0m     \u001b[0;34m'Income Boxcox'\u001b[0m\u001b[0;34m,\u001b[0m\u001b[0;34m\u001b[0m\u001b[0;34m\u001b[0m\u001b[0m\n\u001b[1;32m      5\u001b[0m     \u001b[0;34m'Income Normal Log'\u001b[0m\u001b[0;34m,\u001b[0m\u001b[0;34m\u001b[0m\u001b[0;34m\u001b[0m\u001b[0m\n",
            "\u001b[0;32m/usr/local/lib/python3.10/dist-packages/pandas/util/_decorators.py\u001b[0m in \u001b[0;36mwrapper\u001b[0;34m(*args, **kwargs)\u001b[0m\n\u001b[1;32m    329\u001b[0m                     \u001b[0mstacklevel\u001b[0m\u001b[0;34m=\u001b[0m\u001b[0mfind_stack_level\u001b[0m\u001b[0;34m(\u001b[0m\u001b[0;34m)\u001b[0m\u001b[0;34m,\u001b[0m\u001b[0;34m\u001b[0m\u001b[0;34m\u001b[0m\u001b[0m\n\u001b[1;32m    330\u001b[0m                 )\n\u001b[0;32m--> 331\u001b[0;31m             \u001b[0;32mreturn\u001b[0m \u001b[0mfunc\u001b[0m\u001b[0;34m(\u001b[0m\u001b[0;34m*\u001b[0m\u001b[0margs\u001b[0m\u001b[0;34m,\u001b[0m \u001b[0;34m**\u001b[0m\u001b[0mkwargs\u001b[0m\u001b[0;34m)\u001b[0m\u001b[0;34m\u001b[0m\u001b[0;34m\u001b[0m\u001b[0m\n\u001b[0m\u001b[1;32m    332\u001b[0m \u001b[0;34m\u001b[0m\u001b[0m\n\u001b[1;32m    333\u001b[0m         \u001b[0;31m# error: \"Callable[[VarArg(Any), KwArg(Any)], Any]\" has no\u001b[0m\u001b[0;34m\u001b[0m\u001b[0;34m\u001b[0m\u001b[0m\n",
            "\u001b[0;32m/usr/local/lib/python3.10/dist-packages/pandas/core/frame.py\u001b[0m in \u001b[0;36mdrop\u001b[0;34m(self, labels, axis, index, columns, level, inplace, errors)\u001b[0m\n\u001b[1;32m   5397\u001b[0m                 \u001b[0mweight\u001b[0m  \u001b[0;36m1.0\u001b[0m     \u001b[0;36m0.8\u001b[0m\u001b[0;34m\u001b[0m\u001b[0;34m\u001b[0m\u001b[0m\n\u001b[1;32m   5398\u001b[0m         \"\"\"\n\u001b[0;32m-> 5399\u001b[0;31m         return super().drop(\n\u001b[0m\u001b[1;32m   5400\u001b[0m             \u001b[0mlabels\u001b[0m\u001b[0;34m=\u001b[0m\u001b[0mlabels\u001b[0m\u001b[0;34m,\u001b[0m\u001b[0;34m\u001b[0m\u001b[0;34m\u001b[0m\u001b[0m\n\u001b[1;32m   5401\u001b[0m             \u001b[0maxis\u001b[0m\u001b[0;34m=\u001b[0m\u001b[0maxis\u001b[0m\u001b[0;34m,\u001b[0m\u001b[0;34m\u001b[0m\u001b[0;34m\u001b[0m\u001b[0m\n",
            "\u001b[0;32m/usr/local/lib/python3.10/dist-packages/pandas/util/_decorators.py\u001b[0m in \u001b[0;36mwrapper\u001b[0;34m(*args, **kwargs)\u001b[0m\n\u001b[1;32m    329\u001b[0m                     \u001b[0mstacklevel\u001b[0m\u001b[0;34m=\u001b[0m\u001b[0mfind_stack_level\u001b[0m\u001b[0;34m(\u001b[0m\u001b[0;34m)\u001b[0m\u001b[0;34m,\u001b[0m\u001b[0;34m\u001b[0m\u001b[0;34m\u001b[0m\u001b[0m\n\u001b[1;32m    330\u001b[0m                 )\n\u001b[0;32m--> 331\u001b[0;31m             \u001b[0;32mreturn\u001b[0m \u001b[0mfunc\u001b[0m\u001b[0;34m(\u001b[0m\u001b[0;34m*\u001b[0m\u001b[0margs\u001b[0m\u001b[0;34m,\u001b[0m \u001b[0;34m**\u001b[0m\u001b[0mkwargs\u001b[0m\u001b[0;34m)\u001b[0m\u001b[0;34m\u001b[0m\u001b[0;34m\u001b[0m\u001b[0m\n\u001b[0m\u001b[1;32m    332\u001b[0m \u001b[0;34m\u001b[0m\u001b[0m\n\u001b[1;32m    333\u001b[0m         \u001b[0;31m# error: \"Callable[[VarArg(Any), KwArg(Any)], Any]\" has no\u001b[0m\u001b[0;34m\u001b[0m\u001b[0;34m\u001b[0m\u001b[0m\n",
            "\u001b[0;32m/usr/local/lib/python3.10/dist-packages/pandas/core/generic.py\u001b[0m in \u001b[0;36mdrop\u001b[0;34m(self, labels, axis, index, columns, level, inplace, errors)\u001b[0m\n\u001b[1;32m   4503\u001b[0m         \u001b[0;32mfor\u001b[0m \u001b[0maxis\u001b[0m\u001b[0;34m,\u001b[0m \u001b[0mlabels\u001b[0m \u001b[0;32min\u001b[0m \u001b[0maxes\u001b[0m\u001b[0;34m.\u001b[0m\u001b[0mitems\u001b[0m\u001b[0;34m(\u001b[0m\u001b[0;34m)\u001b[0m\u001b[0;34m:\u001b[0m\u001b[0;34m\u001b[0m\u001b[0;34m\u001b[0m\u001b[0m\n\u001b[1;32m   4504\u001b[0m             \u001b[0;32mif\u001b[0m \u001b[0mlabels\u001b[0m \u001b[0;32mis\u001b[0m \u001b[0;32mnot\u001b[0m \u001b[0;32mNone\u001b[0m\u001b[0;34m:\u001b[0m\u001b[0;34m\u001b[0m\u001b[0;34m\u001b[0m\u001b[0m\n\u001b[0;32m-> 4505\u001b[0;31m                 \u001b[0mobj\u001b[0m \u001b[0;34m=\u001b[0m \u001b[0mobj\u001b[0m\u001b[0;34m.\u001b[0m\u001b[0m_drop_axis\u001b[0m\u001b[0;34m(\u001b[0m\u001b[0mlabels\u001b[0m\u001b[0;34m,\u001b[0m \u001b[0maxis\u001b[0m\u001b[0;34m,\u001b[0m \u001b[0mlevel\u001b[0m\u001b[0;34m=\u001b[0m\u001b[0mlevel\u001b[0m\u001b[0;34m,\u001b[0m \u001b[0merrors\u001b[0m\u001b[0;34m=\u001b[0m\u001b[0merrors\u001b[0m\u001b[0;34m)\u001b[0m\u001b[0;34m\u001b[0m\u001b[0;34m\u001b[0m\u001b[0m\n\u001b[0m\u001b[1;32m   4506\u001b[0m \u001b[0;34m\u001b[0m\u001b[0m\n\u001b[1;32m   4507\u001b[0m         \u001b[0;32mif\u001b[0m \u001b[0minplace\u001b[0m\u001b[0;34m:\u001b[0m\u001b[0;34m\u001b[0m\u001b[0;34m\u001b[0m\u001b[0m\n",
            "\u001b[0;32m/usr/local/lib/python3.10/dist-packages/pandas/core/generic.py\u001b[0m in \u001b[0;36m_drop_axis\u001b[0;34m(self, labels, axis, level, errors, only_slice)\u001b[0m\n\u001b[1;32m   4544\u001b[0m                 \u001b[0mnew_axis\u001b[0m \u001b[0;34m=\u001b[0m \u001b[0maxis\u001b[0m\u001b[0;34m.\u001b[0m\u001b[0mdrop\u001b[0m\u001b[0;34m(\u001b[0m\u001b[0mlabels\u001b[0m\u001b[0;34m,\u001b[0m \u001b[0mlevel\u001b[0m\u001b[0;34m=\u001b[0m\u001b[0mlevel\u001b[0m\u001b[0;34m,\u001b[0m \u001b[0merrors\u001b[0m\u001b[0;34m=\u001b[0m\u001b[0merrors\u001b[0m\u001b[0;34m)\u001b[0m\u001b[0;34m\u001b[0m\u001b[0;34m\u001b[0m\u001b[0m\n\u001b[1;32m   4545\u001b[0m             \u001b[0;32melse\u001b[0m\u001b[0;34m:\u001b[0m\u001b[0;34m\u001b[0m\u001b[0;34m\u001b[0m\u001b[0m\n\u001b[0;32m-> 4546\u001b[0;31m                 \u001b[0mnew_axis\u001b[0m \u001b[0;34m=\u001b[0m \u001b[0maxis\u001b[0m\u001b[0;34m.\u001b[0m\u001b[0mdrop\u001b[0m\u001b[0;34m(\u001b[0m\u001b[0mlabels\u001b[0m\u001b[0;34m,\u001b[0m \u001b[0merrors\u001b[0m\u001b[0;34m=\u001b[0m\u001b[0merrors\u001b[0m\u001b[0;34m)\u001b[0m\u001b[0;34m\u001b[0m\u001b[0;34m\u001b[0m\u001b[0m\n\u001b[0m\u001b[1;32m   4547\u001b[0m             \u001b[0mindexer\u001b[0m \u001b[0;34m=\u001b[0m \u001b[0maxis\u001b[0m\u001b[0;34m.\u001b[0m\u001b[0mget_indexer\u001b[0m\u001b[0;34m(\u001b[0m\u001b[0mnew_axis\u001b[0m\u001b[0;34m)\u001b[0m\u001b[0;34m\u001b[0m\u001b[0;34m\u001b[0m\u001b[0m\n\u001b[1;32m   4548\u001b[0m \u001b[0;34m\u001b[0m\u001b[0m\n",
            "\u001b[0;32m/usr/local/lib/python3.10/dist-packages/pandas/core/indexes/base.py\u001b[0m in \u001b[0;36mdrop\u001b[0;34m(self, labels, errors)\u001b[0m\n\u001b[1;32m   6932\u001b[0m         \u001b[0;32mif\u001b[0m \u001b[0mmask\u001b[0m\u001b[0;34m.\u001b[0m\u001b[0many\u001b[0m\u001b[0;34m(\u001b[0m\u001b[0;34m)\u001b[0m\u001b[0;34m:\u001b[0m\u001b[0;34m\u001b[0m\u001b[0;34m\u001b[0m\u001b[0m\n\u001b[1;32m   6933\u001b[0m             \u001b[0;32mif\u001b[0m \u001b[0merrors\u001b[0m \u001b[0;34m!=\u001b[0m \u001b[0;34m\"ignore\"\u001b[0m\u001b[0;34m:\u001b[0m\u001b[0;34m\u001b[0m\u001b[0;34m\u001b[0m\u001b[0m\n\u001b[0;32m-> 6934\u001b[0;31m                 \u001b[0;32mraise\u001b[0m \u001b[0mKeyError\u001b[0m\u001b[0;34m(\u001b[0m\u001b[0;34mf\"{list(labels[mask])} not found in axis\"\u001b[0m\u001b[0;34m)\u001b[0m\u001b[0;34m\u001b[0m\u001b[0;34m\u001b[0m\u001b[0m\n\u001b[0m\u001b[1;32m   6935\u001b[0m             \u001b[0mindexer\u001b[0m \u001b[0;34m=\u001b[0m \u001b[0mindexer\u001b[0m\u001b[0;34m[\u001b[0m\u001b[0;34m~\u001b[0m\u001b[0mmask\u001b[0m\u001b[0;34m]\u001b[0m\u001b[0;34m\u001b[0m\u001b[0;34m\u001b[0m\u001b[0m\n\u001b[1;32m   6936\u001b[0m         \u001b[0;32mreturn\u001b[0m \u001b[0mself\u001b[0m\u001b[0;34m.\u001b[0m\u001b[0mdelete\u001b[0m\u001b[0;34m(\u001b[0m\u001b[0mindexer\u001b[0m\u001b[0;34m)\u001b[0m\u001b[0;34m\u001b[0m\u001b[0;34m\u001b[0m\u001b[0m\n",
            "\u001b[0;31mKeyError\u001b[0m: \"['Occupation_1', 'Occupation_2', 'Occupation_3', 'Occupation_4'] not found in axis\""
          ]
        }
      ]
    },
    {
      "cell_type": "code",
      "source": [
        "df = df.drop([\n",
        "    'Income',\n",
        "    'Income suavizado',\n",
        "    'Income Boxcox',\n",
        "    'Income Normal Log',\n",
        "    'Age',\n",
        "    'Occupation_1',\n",
        "    'Occupation_2',\n",
        "    'Occupation_3',\n",
        "    'Occupation_4',\n",
        "    'Children',\n",
        "    'Cars Distance',\n",
        "    'Commute Distance_1',\n",
        "    'Commute Distance_2',\n",
        "    'Commute Distance_3',\n",
        "    'Commute Distance_3',\n",
        "    'Commute Distance_4',\n",
        "], axis=1)"
      ],
      "metadata": {
        "id": "kqff_7FJGfES"
      },
      "execution_count": null,
      "outputs": []
    },
    {
      "cell_type": "code",
      "source": [
        "df = df.drop([\n",
        "    'Income',\n",
        "    'Income suavizado',\n",
        "    'Income Boxcox',\n",
        "    'Income Normal Log',\n",
        "    'Age',\n",
        "    'Occupation_1',\n",
        "    'Occupation_2',\n",
        "    'Occupation_3',\n",
        "    'Occupation_4',\n",
        "    'Children',\n",
        "    'Cars',\n",
        "    'Cars Distance',\n",
        "], axis=1)"
      ],
      "metadata": {
        "id": "mHcE9ABDHD7K"
      },
      "execution_count": null,
      "outputs": []
    }
  ]
}